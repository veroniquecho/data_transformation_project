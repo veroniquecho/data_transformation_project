{
 "cells": [
  {
   "cell_type": "markdown",
   "id": "a255071c",
   "metadata": {},
   "source": [
    "## 0. Setting up datasets "
   ]
  },
  {
   "cell_type": "code",
   "execution_count": 1,
   "id": "00ef8569",
   "metadata": {
    "id": "02dc2c3f"
   },
   "outputs": [],
   "source": [
    "# Importing libraries \n",
    "\n",
    "import pandas as pd\n",
    "import numpy as np\n",
    "import seaborn as sns"
   ]
  },
  {
   "cell_type": "code",
   "execution_count": 2,
   "id": "d2b41a92",
   "metadata": {
    "id": "e91e365e"
   },
   "outputs": [],
   "source": [
    "# Reading cars cvs file into DataFrame\n",
    "\n",
    "car_df = pd.read_csv('cars.csv')"
   ]
  },
  {
   "cell_type": "code",
   "execution_count": 3,
   "id": "6b3ebb84",
   "metadata": {
    "id": "237a4bbd"
   },
   "outputs": [],
   "source": [
    "# Reading brand cvs file into DataFrame\n",
    "\n",
    "brand_df = pd.read_csv('brand.csv')"
   ]
  },
  {
   "cell_type": "code",
   "execution_count": 4,
   "id": "483eebdf",
   "metadata": {
    "id": "2ffb8030",
    "outputId": "72e8979b-e9b0-4423-c6b7-dc54a1ec071f",
    "scrolled": true
   },
   "outputs": [
    {
     "data": {
      "text/html": [
       "<div>\n",
       "<style scoped>\n",
       "    .dataframe tbody tr th:only-of-type {\n",
       "        vertical-align: middle;\n",
       "    }\n",
       "\n",
       "    .dataframe tbody tr th {\n",
       "        vertical-align: top;\n",
       "    }\n",
       "\n",
       "    .dataframe thead th {\n",
       "        text-align: right;\n",
       "    }\n",
       "</style>\n",
       "<table border=\"1\" class=\"dataframe\">\n",
       "  <thead>\n",
       "    <tr style=\"text-align: right;\">\n",
       "      <th></th>\n",
       "      <th>title</th>\n",
       "      <th>Price</th>\n",
       "      <th>Mileage(miles)</th>\n",
       "      <th>Registration_Year</th>\n",
       "      <th>Previous Owners</th>\n",
       "      <th>Fuel type</th>\n",
       "      <th>Body type</th>\n",
       "      <th>Engine</th>\n",
       "      <th>Gearbox</th>\n",
       "      <th>Doors</th>\n",
       "      <th>Seats</th>\n",
       "      <th>Emission Class</th>\n",
       "      <th>Service history</th>\n",
       "    </tr>\n",
       "  </thead>\n",
       "  <tbody>\n",
       "    <tr>\n",
       "      <th>0</th>\n",
       "      <td>SKODA FABIA</td>\n",
       "      <td>6900</td>\n",
       "      <td>70189</td>\n",
       "      <td>2016</td>\n",
       "      <td>3.0</td>\n",
       "      <td>Diesel</td>\n",
       "      <td>Hatchback</td>\n",
       "      <td>1.4L</td>\n",
       "      <td>Manual</td>\n",
       "      <td>5.0</td>\n",
       "      <td>5.0</td>\n",
       "      <td>Euro 6</td>\n",
       "      <td>NaN</td>\n",
       "    </tr>\n",
       "    <tr>\n",
       "      <th>1</th>\n",
       "      <td>VAUXHALL CORSA</td>\n",
       "      <td>1495</td>\n",
       "      <td>88585</td>\n",
       "      <td>2008</td>\n",
       "      <td>4.0</td>\n",
       "      <td>Petrol</td>\n",
       "      <td>Hatchback</td>\n",
       "      <td>1.2L</td>\n",
       "      <td>Manual</td>\n",
       "      <td>3.0</td>\n",
       "      <td>5.0</td>\n",
       "      <td>Euro 4</td>\n",
       "      <td>Full</td>\n",
       "    </tr>\n",
       "    <tr>\n",
       "      <th>2</th>\n",
       "      <td>HYUNDAI I30</td>\n",
       "      <td>949</td>\n",
       "      <td>137000</td>\n",
       "      <td>2011</td>\n",
       "      <td>NaN</td>\n",
       "      <td>Petrol</td>\n",
       "      <td>Hatchback</td>\n",
       "      <td>1.4L</td>\n",
       "      <td>Manual</td>\n",
       "      <td>5.0</td>\n",
       "      <td>5.0</td>\n",
       "      <td>Euro 5</td>\n",
       "      <td>NaN</td>\n",
       "    </tr>\n",
       "    <tr>\n",
       "      <th>3</th>\n",
       "      <td>MINI HATCH</td>\n",
       "      <td>2395</td>\n",
       "      <td>96731</td>\n",
       "      <td>2010</td>\n",
       "      <td>5.0</td>\n",
       "      <td>Petrol</td>\n",
       "      <td>Hatchback</td>\n",
       "      <td>1.4L</td>\n",
       "      <td>Manual</td>\n",
       "      <td>3.0</td>\n",
       "      <td>4.0</td>\n",
       "      <td>Euro 4</td>\n",
       "      <td>Full</td>\n",
       "    </tr>\n",
       "    <tr>\n",
       "      <th>4</th>\n",
       "      <td>VAUXHALL CORSA</td>\n",
       "      <td>1000</td>\n",
       "      <td>85000</td>\n",
       "      <td>2013</td>\n",
       "      <td>NaN</td>\n",
       "      <td>Diesel</td>\n",
       "      <td>Hatchback</td>\n",
       "      <td>1.3L</td>\n",
       "      <td>Manual</td>\n",
       "      <td>5.0</td>\n",
       "      <td>5.0</td>\n",
       "      <td>Euro 5</td>\n",
       "      <td>NaN</td>\n",
       "    </tr>\n",
       "  </tbody>\n",
       "</table>\n",
       "</div>"
      ],
      "text/plain": [
       "            title  Price  Mileage(miles)  Registration_Year  Previous Owners  \\\n",
       "0     SKODA FABIA   6900           70189               2016              3.0   \n",
       "1  VAUXHALL CORSA   1495           88585               2008              4.0   \n",
       "2     HYUNDAI I30    949          137000               2011              NaN   \n",
       "3      MINI HATCH   2395           96731               2010              5.0   \n",
       "4  VAUXHALL CORSA   1000           85000               2013              NaN   \n",
       "\n",
       "  Fuel type  Body type Engine Gearbox  Doors  Seats Emission Class  \\\n",
       "0    Diesel  Hatchback   1.4L  Manual    5.0    5.0         Euro 6   \n",
       "1    Petrol  Hatchback   1.2L  Manual    3.0    5.0         Euro 4   \n",
       "2    Petrol  Hatchback   1.4L  Manual    5.0    5.0         Euro 5   \n",
       "3    Petrol  Hatchback   1.4L  Manual    3.0    4.0         Euro 4   \n",
       "4    Diesel  Hatchback   1.3L  Manual    5.0    5.0         Euro 5   \n",
       "\n",
       "  Service history  \n",
       "0             NaN  \n",
       "1            Full  \n",
       "2             NaN  \n",
       "3            Full  \n",
       "4             NaN  "
      ]
     },
     "execution_count": 4,
     "metadata": {},
     "output_type": "execute_result"
    }
   ],
   "source": [
    "# Checking the first five rows of car_df\n",
    "\n",
    "car_df.head()"
   ]
  },
  {
   "cell_type": "code",
   "execution_count": 5,
   "id": "b8677238",
   "metadata": {
    "id": "5edd32f7",
    "outputId": "e32bcd11-09d8-4407-f64e-eaf7f6d79296"
   },
   "outputs": [
    {
     "data": {
      "text/html": [
       "<div>\n",
       "<style scoped>\n",
       "    .dataframe tbody tr th:only-of-type {\n",
       "        vertical-align: middle;\n",
       "    }\n",
       "\n",
       "    .dataframe tbody tr th {\n",
       "        vertical-align: top;\n",
       "    }\n",
       "\n",
       "    .dataframe thead th {\n",
       "        text-align: right;\n",
       "    }\n",
       "</style>\n",
       "<table border=\"1\" class=\"dataframe\">\n",
       "  <thead>\n",
       "    <tr style=\"text-align: right;\">\n",
       "      <th></th>\n",
       "      <th>title</th>\n",
       "      <th>country</th>\n",
       "    </tr>\n",
       "  </thead>\n",
       "  <tbody>\n",
       "    <tr>\n",
       "      <th>0</th>\n",
       "      <td>skoda</td>\n",
       "      <td>Czech Republic</td>\n",
       "    </tr>\n",
       "    <tr>\n",
       "      <th>1</th>\n",
       "      <td>vauxhall</td>\n",
       "      <td>United Kingdom</td>\n",
       "    </tr>\n",
       "    <tr>\n",
       "      <th>2</th>\n",
       "      <td>hyundai</td>\n",
       "      <td>South Korea</td>\n",
       "    </tr>\n",
       "    <tr>\n",
       "      <th>3</th>\n",
       "      <td>mini</td>\n",
       "      <td>United Kingdom</td>\n",
       "    </tr>\n",
       "    <tr>\n",
       "      <th>4</th>\n",
       "      <td>ford</td>\n",
       "      <td>United States</td>\n",
       "    </tr>\n",
       "  </tbody>\n",
       "</table>\n",
       "</div>"
      ],
      "text/plain": [
       "      title         country\n",
       "0     skoda  Czech Republic\n",
       "1  vauxhall  United Kingdom\n",
       "2   hyundai     South Korea\n",
       "3      mini  United Kingdom\n",
       "4      ford   United States"
      ]
     },
     "execution_count": 5,
     "metadata": {},
     "output_type": "execute_result"
    }
   ],
   "source": [
    "# Checking the first five rows of brand_df\n",
    "\n",
    "brand_df.head()"
   ]
  },
  {
   "cell_type": "markdown",
   "id": "7833385d",
   "metadata": {},
   "source": [
    "## 1. cars.csv와 brand.csv의 데이터 합치기"
   ]
  },
  {
   "cell_type": "code",
   "execution_count": 6,
   "id": "4585ede5",
   "metadata": {},
   "outputs": [],
   "source": [
    "# It seems like the first word in 'title' in car_df is the manufacturer, whereas the second is the model name.\n",
    "# Let's split the manfacturer name from 'title' in car_df\n",
    "\n",
    "car_df['manufacturer'] = car_df['title'].str.split().apply(lambda x: x[0])"
   ]
  },
  {
   "cell_type": "code",
   "execution_count": 7,
   "id": "bcbfa717",
   "metadata": {},
   "outputs": [
    {
     "data": {
      "text/html": [
       "<div>\n",
       "<style scoped>\n",
       "    .dataframe tbody tr th:only-of-type {\n",
       "        vertical-align: middle;\n",
       "    }\n",
       "\n",
       "    .dataframe tbody tr th {\n",
       "        vertical-align: top;\n",
       "    }\n",
       "\n",
       "    .dataframe thead th {\n",
       "        text-align: right;\n",
       "    }\n",
       "</style>\n",
       "<table border=\"1\" class=\"dataframe\">\n",
       "  <thead>\n",
       "    <tr style=\"text-align: right;\">\n",
       "      <th></th>\n",
       "      <th>title</th>\n",
       "      <th>Price</th>\n",
       "      <th>Mileage(miles)</th>\n",
       "      <th>Registration_Year</th>\n",
       "      <th>Previous Owners</th>\n",
       "      <th>Fuel type</th>\n",
       "      <th>Body type</th>\n",
       "      <th>Engine</th>\n",
       "      <th>Gearbox</th>\n",
       "      <th>Doors</th>\n",
       "      <th>Seats</th>\n",
       "      <th>Emission Class</th>\n",
       "      <th>Service history</th>\n",
       "      <th>manufacturer</th>\n",
       "    </tr>\n",
       "  </thead>\n",
       "  <tbody>\n",
       "    <tr>\n",
       "      <th>0</th>\n",
       "      <td>SKODA FABIA</td>\n",
       "      <td>6900</td>\n",
       "      <td>70189</td>\n",
       "      <td>2016</td>\n",
       "      <td>3.0</td>\n",
       "      <td>Diesel</td>\n",
       "      <td>Hatchback</td>\n",
       "      <td>1.4L</td>\n",
       "      <td>Manual</td>\n",
       "      <td>5.0</td>\n",
       "      <td>5.0</td>\n",
       "      <td>Euro 6</td>\n",
       "      <td>NaN</td>\n",
       "      <td>SKODA</td>\n",
       "    </tr>\n",
       "    <tr>\n",
       "      <th>1</th>\n",
       "      <td>VAUXHALL CORSA</td>\n",
       "      <td>1495</td>\n",
       "      <td>88585</td>\n",
       "      <td>2008</td>\n",
       "      <td>4.0</td>\n",
       "      <td>Petrol</td>\n",
       "      <td>Hatchback</td>\n",
       "      <td>1.2L</td>\n",
       "      <td>Manual</td>\n",
       "      <td>3.0</td>\n",
       "      <td>5.0</td>\n",
       "      <td>Euro 4</td>\n",
       "      <td>Full</td>\n",
       "      <td>VAUXHALL</td>\n",
       "    </tr>\n",
       "    <tr>\n",
       "      <th>2</th>\n",
       "      <td>HYUNDAI I30</td>\n",
       "      <td>949</td>\n",
       "      <td>137000</td>\n",
       "      <td>2011</td>\n",
       "      <td>NaN</td>\n",
       "      <td>Petrol</td>\n",
       "      <td>Hatchback</td>\n",
       "      <td>1.4L</td>\n",
       "      <td>Manual</td>\n",
       "      <td>5.0</td>\n",
       "      <td>5.0</td>\n",
       "      <td>Euro 5</td>\n",
       "      <td>NaN</td>\n",
       "      <td>HYUNDAI</td>\n",
       "    </tr>\n",
       "    <tr>\n",
       "      <th>3</th>\n",
       "      <td>MINI HATCH</td>\n",
       "      <td>2395</td>\n",
       "      <td>96731</td>\n",
       "      <td>2010</td>\n",
       "      <td>5.0</td>\n",
       "      <td>Petrol</td>\n",
       "      <td>Hatchback</td>\n",
       "      <td>1.4L</td>\n",
       "      <td>Manual</td>\n",
       "      <td>3.0</td>\n",
       "      <td>4.0</td>\n",
       "      <td>Euro 4</td>\n",
       "      <td>Full</td>\n",
       "      <td>MINI</td>\n",
       "    </tr>\n",
       "    <tr>\n",
       "      <th>4</th>\n",
       "      <td>VAUXHALL CORSA</td>\n",
       "      <td>1000</td>\n",
       "      <td>85000</td>\n",
       "      <td>2013</td>\n",
       "      <td>NaN</td>\n",
       "      <td>Diesel</td>\n",
       "      <td>Hatchback</td>\n",
       "      <td>1.3L</td>\n",
       "      <td>Manual</td>\n",
       "      <td>5.0</td>\n",
       "      <td>5.0</td>\n",
       "      <td>Euro 5</td>\n",
       "      <td>NaN</td>\n",
       "      <td>VAUXHALL</td>\n",
       "    </tr>\n",
       "  </tbody>\n",
       "</table>\n",
       "</div>"
      ],
      "text/plain": [
       "            title  Price  Mileage(miles)  Registration_Year  Previous Owners  \\\n",
       "0     SKODA FABIA   6900           70189               2016              3.0   \n",
       "1  VAUXHALL CORSA   1495           88585               2008              4.0   \n",
       "2     HYUNDAI I30    949          137000               2011              NaN   \n",
       "3      MINI HATCH   2395           96731               2010              5.0   \n",
       "4  VAUXHALL CORSA   1000           85000               2013              NaN   \n",
       "\n",
       "  Fuel type  Body type Engine Gearbox  Doors  Seats Emission Class  \\\n",
       "0    Diesel  Hatchback   1.4L  Manual    5.0    5.0         Euro 6   \n",
       "1    Petrol  Hatchback   1.2L  Manual    3.0    5.0         Euro 4   \n",
       "2    Petrol  Hatchback   1.4L  Manual    5.0    5.0         Euro 5   \n",
       "3    Petrol  Hatchback   1.4L  Manual    3.0    4.0         Euro 4   \n",
       "4    Diesel  Hatchback   1.3L  Manual    5.0    5.0         Euro 5   \n",
       "\n",
       "  Service history manufacturer  \n",
       "0             NaN        SKODA  \n",
       "1            Full     VAUXHALL  \n",
       "2             NaN      HYUNDAI  \n",
       "3            Full         MINI  \n",
       "4             NaN     VAUXHALL  "
      ]
     },
     "execution_count": 7,
     "metadata": {},
     "output_type": "execute_result"
    }
   ],
   "source": [
    "# Check if they have been separated properly\n",
    "\n",
    "car_df.head()"
   ]
  },
  {
   "cell_type": "code",
   "execution_count": 8,
   "id": "68c21026",
   "metadata": {},
   "outputs": [],
   "source": [
    "# Change 'title' in brand_df into uppercase letter to match car_df inputs\n",
    "\n",
    "brand_df['title'] = brand_df['title'].apply(lambda x: x.upper())"
   ]
  },
  {
   "cell_type": "code",
   "execution_count": 9,
   "id": "65c43ffc",
   "metadata": {},
   "outputs": [],
   "source": [
    "# Rename the column 'title' to 'manufacturer' in brand_df\n",
    "\n",
    "brand_df = brand_df.rename({'title':'manufacturer'}, axis=1)"
   ]
  },
  {
   "cell_type": "code",
   "execution_count": 10,
   "id": "ee3ddc7b",
   "metadata": {},
   "outputs": [
    {
     "data": {
      "text/html": [
       "<div>\n",
       "<style scoped>\n",
       "    .dataframe tbody tr th:only-of-type {\n",
       "        vertical-align: middle;\n",
       "    }\n",
       "\n",
       "    .dataframe tbody tr th {\n",
       "        vertical-align: top;\n",
       "    }\n",
       "\n",
       "    .dataframe thead th {\n",
       "        text-align: right;\n",
       "    }\n",
       "</style>\n",
       "<table border=\"1\" class=\"dataframe\">\n",
       "  <thead>\n",
       "    <tr style=\"text-align: right;\">\n",
       "      <th></th>\n",
       "      <th>manufacturer</th>\n",
       "      <th>country</th>\n",
       "    </tr>\n",
       "  </thead>\n",
       "  <tbody>\n",
       "    <tr>\n",
       "      <th>0</th>\n",
       "      <td>SKODA</td>\n",
       "      <td>Czech Republic</td>\n",
       "    </tr>\n",
       "    <tr>\n",
       "      <th>1</th>\n",
       "      <td>VAUXHALL</td>\n",
       "      <td>United Kingdom</td>\n",
       "    </tr>\n",
       "    <tr>\n",
       "      <th>2</th>\n",
       "      <td>HYUNDAI</td>\n",
       "      <td>South Korea</td>\n",
       "    </tr>\n",
       "    <tr>\n",
       "      <th>3</th>\n",
       "      <td>MINI</td>\n",
       "      <td>United Kingdom</td>\n",
       "    </tr>\n",
       "    <tr>\n",
       "      <th>4</th>\n",
       "      <td>FORD</td>\n",
       "      <td>United States</td>\n",
       "    </tr>\n",
       "  </tbody>\n",
       "</table>\n",
       "</div>"
      ],
      "text/plain": [
       "  manufacturer         country\n",
       "0        SKODA  Czech Republic\n",
       "1     VAUXHALL  United Kingdom\n",
       "2      HYUNDAI     South Korea\n",
       "3         MINI  United Kingdom\n",
       "4         FORD   United States"
      ]
     },
     "execution_count": 10,
     "metadata": {},
     "output_type": "execute_result"
    }
   ],
   "source": [
    "# Check the result\n",
    "\n",
    "brand_df.head()"
   ]
  },
  {
   "cell_type": "code",
   "execution_count": 11,
   "id": "dceb17c6",
   "metadata": {},
   "outputs": [
    {
     "data": {
      "text/plain": [
       "48"
      ]
     },
     "execution_count": 11,
     "metadata": {},
     "output_type": "execute_result"
    }
   ],
   "source": [
    "# How many unique values are there in 'manufaturer' column in car_df?\n",
    "\n",
    "car_df['manufacturer'].nunique()"
   ]
  },
  {
   "cell_type": "code",
   "execution_count": 12,
   "id": "03a5d1e8",
   "metadata": {},
   "outputs": [
    {
     "data": {
      "text/plain": [
       "48"
      ]
     },
     "execution_count": 12,
     "metadata": {},
     "output_type": "execute_result"
    }
   ],
   "source": [
    "# How many unique values are there in 'manufaturer' column in brand_df?\n",
    "\n",
    "brand_df['manufacturer'].nunique()"
   ]
  },
  {
   "cell_type": "code",
   "execution_count": 13,
   "id": "178fd72f",
   "metadata": {},
   "outputs": [
    {
     "data": {
      "text/plain": [
       "array(['SKODA', 'VAUXHALL', 'HYUNDAI', 'MINI', 'FORD', 'VOLVO', 'PEUGEOT',\n",
       "       'BMW', 'CITROEN', 'MERCEDES-BENZ', 'MAZDA', 'SAAB', 'VOLKSWAGEN',\n",
       "       'HONDA', 'MG', 'TOYOTA', 'SEAT', 'NISSAN', 'ALFA', 'RENAULT',\n",
       "       'KIA', 'PROTON', 'FIAT', 'AUDI', 'MITSUBISHI', 'LEXUS', 'LAND',\n",
       "       'CHEVROLET', 'SUZUKI', 'DACIA', 'DAIHATSU', 'JEEP', 'JAGUAR',\n",
       "       'CHRYSLER', 'ROVER', 'DS', 'DAEWOO', 'DODGE', 'PORSCHE', 'SUBARU',\n",
       "       'INFINITI', 'ABARTH', 'SMART', 'MARCOS', 'MASERATI', 'SSANGYONG',\n",
       "       'LAGONDA', 'ISUZU'], dtype=object)"
      ]
     },
     "execution_count": 13,
     "metadata": {},
     "output_type": "execute_result"
    }
   ],
   "source": [
    "# Let's have a look at the values in car_df in detail \n",
    "\n",
    "car_df['manufacturer'].unique()"
   ]
  },
  {
   "cell_type": "code",
   "execution_count": 14,
   "id": "900bf5b2",
   "metadata": {},
   "outputs": [
    {
     "data": {
      "text/plain": [
       "array(['SKODA', 'VAUXHALL', 'HYUNDAI', 'MINI', 'FORD', 'VOLVO', 'PEUGEOT',\n",
       "       'BMW', 'CITROEN', 'MERCEDES-BENZ', 'MAZDA', 'SAAB', 'VOLKSWAGEN',\n",
       "       'HONDA', 'MG', 'TOYOTA', 'SEAT', 'NISSAN', 'ALFA', 'RENAULT',\n",
       "       'KIA', 'PROTON', 'FIAT', 'AUDI', 'MITSUBISHI', 'LEXUS', 'LAND',\n",
       "       'CHEVROLET', 'SUZUKI', 'DACIA', 'DAIHATSU', 'JEEP', 'JAGUAR',\n",
       "       'CHRYSLER', 'ROVER', 'DS', 'DAEWOO', 'DODGE', 'PORSCHE', 'SUBARU',\n",
       "       'INFINITI', 'ABARTH', 'SMART', 'MARCOS', 'MASERATI', 'SSANGYONG',\n",
       "       'LAGONDA', 'ISUZU'], dtype=object)"
      ]
     },
     "execution_count": 14,
     "metadata": {},
     "output_type": "execute_result"
    }
   ],
   "source": [
    "# Do we have any values don't match up?\n",
    "\n",
    "brand_df['manufacturer'].unique()"
   ]
  },
  {
   "cell_type": "code",
   "execution_count": 15,
   "id": "a96b689c",
   "metadata": {},
   "outputs": [],
   "source": [
    "# Finanlly merge the tables\n",
    "\n",
    "all_data = car_df.merge(brand_df, on='manufacturer', how='left')"
   ]
  },
  {
   "cell_type": "code",
   "execution_count": 16,
   "id": "aebc78dd",
   "metadata": {},
   "outputs": [
    {
     "data": {
      "text/html": [
       "<div>\n",
       "<style scoped>\n",
       "    .dataframe tbody tr th:only-of-type {\n",
       "        vertical-align: middle;\n",
       "    }\n",
       "\n",
       "    .dataframe tbody tr th {\n",
       "        vertical-align: top;\n",
       "    }\n",
       "\n",
       "    .dataframe thead th {\n",
       "        text-align: right;\n",
       "    }\n",
       "</style>\n",
       "<table border=\"1\" class=\"dataframe\">\n",
       "  <thead>\n",
       "    <tr style=\"text-align: right;\">\n",
       "      <th></th>\n",
       "      <th>title</th>\n",
       "      <th>Price</th>\n",
       "      <th>Mileage(miles)</th>\n",
       "      <th>Registration_Year</th>\n",
       "      <th>Previous Owners</th>\n",
       "      <th>Fuel type</th>\n",
       "      <th>Body type</th>\n",
       "      <th>Engine</th>\n",
       "      <th>Gearbox</th>\n",
       "      <th>Doors</th>\n",
       "      <th>Seats</th>\n",
       "      <th>Emission Class</th>\n",
       "      <th>Service history</th>\n",
       "      <th>manufacturer</th>\n",
       "      <th>country</th>\n",
       "    </tr>\n",
       "  </thead>\n",
       "  <tbody>\n",
       "    <tr>\n",
       "      <th>0</th>\n",
       "      <td>SKODA FABIA</td>\n",
       "      <td>6900</td>\n",
       "      <td>70189</td>\n",
       "      <td>2016</td>\n",
       "      <td>3.0</td>\n",
       "      <td>Diesel</td>\n",
       "      <td>Hatchback</td>\n",
       "      <td>1.4L</td>\n",
       "      <td>Manual</td>\n",
       "      <td>5.0</td>\n",
       "      <td>5.0</td>\n",
       "      <td>Euro 6</td>\n",
       "      <td>NaN</td>\n",
       "      <td>SKODA</td>\n",
       "      <td>Czech Republic</td>\n",
       "    </tr>\n",
       "    <tr>\n",
       "      <th>1</th>\n",
       "      <td>VAUXHALL CORSA</td>\n",
       "      <td>1495</td>\n",
       "      <td>88585</td>\n",
       "      <td>2008</td>\n",
       "      <td>4.0</td>\n",
       "      <td>Petrol</td>\n",
       "      <td>Hatchback</td>\n",
       "      <td>1.2L</td>\n",
       "      <td>Manual</td>\n",
       "      <td>3.0</td>\n",
       "      <td>5.0</td>\n",
       "      <td>Euro 4</td>\n",
       "      <td>Full</td>\n",
       "      <td>VAUXHALL</td>\n",
       "      <td>United Kingdom</td>\n",
       "    </tr>\n",
       "    <tr>\n",
       "      <th>2</th>\n",
       "      <td>HYUNDAI I30</td>\n",
       "      <td>949</td>\n",
       "      <td>137000</td>\n",
       "      <td>2011</td>\n",
       "      <td>NaN</td>\n",
       "      <td>Petrol</td>\n",
       "      <td>Hatchback</td>\n",
       "      <td>1.4L</td>\n",
       "      <td>Manual</td>\n",
       "      <td>5.0</td>\n",
       "      <td>5.0</td>\n",
       "      <td>Euro 5</td>\n",
       "      <td>NaN</td>\n",
       "      <td>HYUNDAI</td>\n",
       "      <td>South Korea</td>\n",
       "    </tr>\n",
       "    <tr>\n",
       "      <th>3</th>\n",
       "      <td>MINI HATCH</td>\n",
       "      <td>2395</td>\n",
       "      <td>96731</td>\n",
       "      <td>2010</td>\n",
       "      <td>5.0</td>\n",
       "      <td>Petrol</td>\n",
       "      <td>Hatchback</td>\n",
       "      <td>1.4L</td>\n",
       "      <td>Manual</td>\n",
       "      <td>3.0</td>\n",
       "      <td>4.0</td>\n",
       "      <td>Euro 4</td>\n",
       "      <td>Full</td>\n",
       "      <td>MINI</td>\n",
       "      <td>United Kingdom</td>\n",
       "    </tr>\n",
       "    <tr>\n",
       "      <th>4</th>\n",
       "      <td>VAUXHALL CORSA</td>\n",
       "      <td>1000</td>\n",
       "      <td>85000</td>\n",
       "      <td>2013</td>\n",
       "      <td>NaN</td>\n",
       "      <td>Diesel</td>\n",
       "      <td>Hatchback</td>\n",
       "      <td>1.3L</td>\n",
       "      <td>Manual</td>\n",
       "      <td>5.0</td>\n",
       "      <td>5.0</td>\n",
       "      <td>Euro 5</td>\n",
       "      <td>NaN</td>\n",
       "      <td>VAUXHALL</td>\n",
       "      <td>United Kingdom</td>\n",
       "    </tr>\n",
       "  </tbody>\n",
       "</table>\n",
       "</div>"
      ],
      "text/plain": [
       "            title  Price  Mileage(miles)  Registration_Year  Previous Owners  \\\n",
       "0     SKODA FABIA   6900           70189               2016              3.0   \n",
       "1  VAUXHALL CORSA   1495           88585               2008              4.0   \n",
       "2     HYUNDAI I30    949          137000               2011              NaN   \n",
       "3      MINI HATCH   2395           96731               2010              5.0   \n",
       "4  VAUXHALL CORSA   1000           85000               2013              NaN   \n",
       "\n",
       "  Fuel type  Body type Engine Gearbox  Doors  Seats Emission Class  \\\n",
       "0    Diesel  Hatchback   1.4L  Manual    5.0    5.0         Euro 6   \n",
       "1    Petrol  Hatchback   1.2L  Manual    3.0    5.0         Euro 4   \n",
       "2    Petrol  Hatchback   1.4L  Manual    5.0    5.0         Euro 5   \n",
       "3    Petrol  Hatchback   1.4L  Manual    3.0    4.0         Euro 4   \n",
       "4    Diesel  Hatchback   1.3L  Manual    5.0    5.0         Euro 5   \n",
       "\n",
       "  Service history manufacturer         country  \n",
       "0             NaN        SKODA  Czech Republic  \n",
       "1            Full     VAUXHALL  United Kingdom  \n",
       "2             NaN      HYUNDAI     South Korea  \n",
       "3            Full         MINI  United Kingdom  \n",
       "4             NaN     VAUXHALL  United Kingdom  "
      ]
     },
     "execution_count": 16,
     "metadata": {},
     "output_type": "execute_result"
    }
   ],
   "source": [
    "# Check if the tables have been merged properly\n",
    "\n",
    "all_data.head()"
   ]
  },
  {
   "cell_type": "code",
   "execution_count": 17,
   "id": "d445d90d",
   "metadata": {},
   "outputs": [],
   "source": [
    "# Rename the columns for consistency\n",
    "\n",
    "all_data = all_data.rename({\n",
    "    'Price':'price', \n",
    "    'Mileage(miles)':'mileage', \n",
    "    'Registration_Year':'reg_yr', \n",
    "    'Previous Owners':'prev_owners',\n",
    "    'Fuel type':'fuel_type',\n",
    "    'Body type':'body_type', \n",
    "    'Engine':'engine', \n",
    "    'Gearbox':'gearbox', \n",
    "    'Doors':'doors', \n",
    "    'Seats':'seats', \n",
    "    'Emission Class':'emission_class', \n",
    "    'Service history':'service_history'}, \n",
    "    axis=1)"
   ]
  },
  {
   "cell_type": "code",
   "execution_count": 18,
   "id": "f63c8bad",
   "metadata": {},
   "outputs": [
    {
     "data": {
      "text/html": [
       "<div>\n",
       "<style scoped>\n",
       "    .dataframe tbody tr th:only-of-type {\n",
       "        vertical-align: middle;\n",
       "    }\n",
       "\n",
       "    .dataframe tbody tr th {\n",
       "        vertical-align: top;\n",
       "    }\n",
       "\n",
       "    .dataframe thead th {\n",
       "        text-align: right;\n",
       "    }\n",
       "</style>\n",
       "<table border=\"1\" class=\"dataframe\">\n",
       "  <thead>\n",
       "    <tr style=\"text-align: right;\">\n",
       "      <th></th>\n",
       "      <th>title</th>\n",
       "      <th>price</th>\n",
       "      <th>mileage</th>\n",
       "      <th>reg_yr</th>\n",
       "      <th>prev_owners</th>\n",
       "      <th>fuel_type</th>\n",
       "      <th>body_type</th>\n",
       "      <th>engine</th>\n",
       "      <th>gearbox</th>\n",
       "      <th>doors</th>\n",
       "      <th>seats</th>\n",
       "      <th>emission_class</th>\n",
       "      <th>service_history</th>\n",
       "      <th>manufacturer</th>\n",
       "      <th>country</th>\n",
       "    </tr>\n",
       "  </thead>\n",
       "  <tbody>\n",
       "    <tr>\n",
       "      <th>0</th>\n",
       "      <td>SKODA FABIA</td>\n",
       "      <td>6900</td>\n",
       "      <td>70189</td>\n",
       "      <td>2016</td>\n",
       "      <td>3.0</td>\n",
       "      <td>Diesel</td>\n",
       "      <td>Hatchback</td>\n",
       "      <td>1.4L</td>\n",
       "      <td>Manual</td>\n",
       "      <td>5.0</td>\n",
       "      <td>5.0</td>\n",
       "      <td>Euro 6</td>\n",
       "      <td>NaN</td>\n",
       "      <td>SKODA</td>\n",
       "      <td>Czech Republic</td>\n",
       "    </tr>\n",
       "    <tr>\n",
       "      <th>1</th>\n",
       "      <td>VAUXHALL CORSA</td>\n",
       "      <td>1495</td>\n",
       "      <td>88585</td>\n",
       "      <td>2008</td>\n",
       "      <td>4.0</td>\n",
       "      <td>Petrol</td>\n",
       "      <td>Hatchback</td>\n",
       "      <td>1.2L</td>\n",
       "      <td>Manual</td>\n",
       "      <td>3.0</td>\n",
       "      <td>5.0</td>\n",
       "      <td>Euro 4</td>\n",
       "      <td>Full</td>\n",
       "      <td>VAUXHALL</td>\n",
       "      <td>United Kingdom</td>\n",
       "    </tr>\n",
       "    <tr>\n",
       "      <th>2</th>\n",
       "      <td>HYUNDAI I30</td>\n",
       "      <td>949</td>\n",
       "      <td>137000</td>\n",
       "      <td>2011</td>\n",
       "      <td>NaN</td>\n",
       "      <td>Petrol</td>\n",
       "      <td>Hatchback</td>\n",
       "      <td>1.4L</td>\n",
       "      <td>Manual</td>\n",
       "      <td>5.0</td>\n",
       "      <td>5.0</td>\n",
       "      <td>Euro 5</td>\n",
       "      <td>NaN</td>\n",
       "      <td>HYUNDAI</td>\n",
       "      <td>South Korea</td>\n",
       "    </tr>\n",
       "    <tr>\n",
       "      <th>3</th>\n",
       "      <td>MINI HATCH</td>\n",
       "      <td>2395</td>\n",
       "      <td>96731</td>\n",
       "      <td>2010</td>\n",
       "      <td>5.0</td>\n",
       "      <td>Petrol</td>\n",
       "      <td>Hatchback</td>\n",
       "      <td>1.4L</td>\n",
       "      <td>Manual</td>\n",
       "      <td>3.0</td>\n",
       "      <td>4.0</td>\n",
       "      <td>Euro 4</td>\n",
       "      <td>Full</td>\n",
       "      <td>MINI</td>\n",
       "      <td>United Kingdom</td>\n",
       "    </tr>\n",
       "    <tr>\n",
       "      <th>4</th>\n",
       "      <td>VAUXHALL CORSA</td>\n",
       "      <td>1000</td>\n",
       "      <td>85000</td>\n",
       "      <td>2013</td>\n",
       "      <td>NaN</td>\n",
       "      <td>Diesel</td>\n",
       "      <td>Hatchback</td>\n",
       "      <td>1.3L</td>\n",
       "      <td>Manual</td>\n",
       "      <td>5.0</td>\n",
       "      <td>5.0</td>\n",
       "      <td>Euro 5</td>\n",
       "      <td>NaN</td>\n",
       "      <td>VAUXHALL</td>\n",
       "      <td>United Kingdom</td>\n",
       "    </tr>\n",
       "  </tbody>\n",
       "</table>\n",
       "</div>"
      ],
      "text/plain": [
       "            title  price  mileage  reg_yr  prev_owners fuel_type  body_type  \\\n",
       "0     SKODA FABIA   6900    70189    2016          3.0    Diesel  Hatchback   \n",
       "1  VAUXHALL CORSA   1495    88585    2008          4.0    Petrol  Hatchback   \n",
       "2     HYUNDAI I30    949   137000    2011          NaN    Petrol  Hatchback   \n",
       "3      MINI HATCH   2395    96731    2010          5.0    Petrol  Hatchback   \n",
       "4  VAUXHALL CORSA   1000    85000    2013          NaN    Diesel  Hatchback   \n",
       "\n",
       "  engine gearbox  doors  seats emission_class service_history manufacturer  \\\n",
       "0   1.4L  Manual    5.0    5.0         Euro 6             NaN        SKODA   \n",
       "1   1.2L  Manual    3.0    5.0         Euro 4            Full     VAUXHALL   \n",
       "2   1.4L  Manual    5.0    5.0         Euro 5             NaN      HYUNDAI   \n",
       "3   1.4L  Manual    3.0    4.0         Euro 4            Full         MINI   \n",
       "4   1.3L  Manual    5.0    5.0         Euro 5             NaN     VAUXHALL   \n",
       "\n",
       "          country  \n",
       "0  Czech Republic  \n",
       "1  United Kingdom  \n",
       "2     South Korea  \n",
       "3  United Kingdom  \n",
       "4  United Kingdom  "
      ]
     },
     "execution_count": 18,
     "metadata": {},
     "output_type": "execute_result"
    }
   ],
   "source": [
    "# Check the result\n",
    "\n",
    "all_data.head()"
   ]
  },
  {
   "cell_type": "code",
   "execution_count": 19,
   "id": "7ae14df7",
   "metadata": {},
   "outputs": [
    {
     "data": {
      "text/plain": [
       "title                 0\n",
       "price                 0\n",
       "mileage               0\n",
       "reg_yr                0\n",
       "prev_owners        1411\n",
       "fuel_type             0\n",
       "body_type             0\n",
       "engine               45\n",
       "gearbox               0\n",
       "doors                25\n",
       "seats                35\n",
       "emission_class       87\n",
       "service_history    3147\n",
       "manufacturer          0\n",
       "country               0\n",
       "dtype: int64"
      ]
     },
     "execution_count": 19,
     "metadata": {},
     "output_type": "execute_result"
    }
   ],
   "source": [
    "# Check if we have missed anything in joining the tables using 'manufacturer' column\n",
    "\n",
    "all_data.isna().sum()"
   ]
  },
  {
   "cell_type": "markdown",
   "id": "a41c37f5",
   "metadata": {},
   "source": [
    "## 2. 카테고리형 변수를 숫자 형태로 변환하기\n",
    "[힌트] Engine, Emission Class 변수에 주목하세요!"
   ]
  },
  {
   "cell_type": "code",
   "execution_count": 20,
   "id": "90491743",
   "metadata": {},
   "outputs": [
    {
     "name": "stdout",
     "output_type": "stream",
     "text": [
      "<class 'pandas.core.frame.DataFrame'>\n",
      "Int64Index: 3687 entries, 0 to 3686\n",
      "Data columns (total 15 columns):\n",
      " #   Column           Non-Null Count  Dtype  \n",
      "---  ------           --------------  -----  \n",
      " 0   title            3687 non-null   object \n",
      " 1   price            3687 non-null   int64  \n",
      " 2   mileage          3687 non-null   int64  \n",
      " 3   reg_yr           3687 non-null   int64  \n",
      " 4   prev_owners      2276 non-null   float64\n",
      " 5   fuel_type        3687 non-null   object \n",
      " 6   body_type        3687 non-null   object \n",
      " 7   engine           3642 non-null   object \n",
      " 8   gearbox          3687 non-null   object \n",
      " 9   doors            3662 non-null   float64\n",
      " 10  seats            3652 non-null   float64\n",
      " 11  emission_class   3600 non-null   object \n",
      " 12  service_history  540 non-null    object \n",
      " 13  manufacturer     3687 non-null   object \n",
      " 14  country          3687 non-null   object \n",
      "dtypes: float64(3), int64(3), object(9)\n",
      "memory usage: 460.9+ KB\n"
     ]
    }
   ],
   "source": [
    "# Check the data types for each column\n",
    "\n",
    "all_data.info()"
   ]
  },
  {
   "cell_type": "code",
   "execution_count": 21,
   "id": "0de69783",
   "metadata": {},
   "outputs": [
    {
     "data": {
      "text/plain": [
       "array(['Diesel', 'Petrol', 'Petrol Plug-in Hybrid', 'Petrol Hybrid',\n",
       "       'Electric', 'Diesel Hybrid'], dtype=object)"
      ]
     },
     "execution_count": 21,
     "metadata": {},
     "output_type": "execute_result"
    }
   ],
   "source": [
    "# Let's see what the columns with object Dtype look like - starting with the 'fuel_type' column\n",
    "\n",
    "all_data['fuel_type'].unique()"
   ]
  },
  {
   "cell_type": "code",
   "execution_count": 22,
   "id": "7c912843",
   "metadata": {},
   "outputs": [
    {
     "data": {
      "text/plain": [
       "array(['Hatchback', 'Coupe', 'Estate', 'Saloon', 'Convertible', 'MPV',\n",
       "       'SUV', 'Minibus', 'Combi Van', 'Pickup'], dtype=object)"
      ]
     },
     "execution_count": 22,
     "metadata": {},
     "output_type": "execute_result"
    }
   ],
   "source": [
    "# Then the 'body_type' column\n",
    "\n",
    "all_data['body_type'].unique()"
   ]
  },
  {
   "cell_type": "code",
   "execution_count": 23,
   "id": "4893f8a8",
   "metadata": {},
   "outputs": [
    {
     "data": {
      "text/plain": [
       "array(['1.4L', '1.2L', '1.3L', '2.0L', '1.6L', '2.3L', '1.8L', '1.0L',\n",
       "       '3.0L', '1.5L', '1.9L', '2.4L', '2.2L', '3.5L', '3.2L', '2.5L',\n",
       "       '1.1L', '3.1L', '3.7L', '2.6L', '2.1L', '2.8L', '5.0L', '0.8L',\n",
       "       '2.7L', '1.7L', '0.9L', '4.2L', nan, '4.4L', '4.3L', '3.3L',\n",
       "       '5.5L', '4.8L', '6.3L'], dtype=object)"
      ]
     },
     "execution_count": 23,
     "metadata": {},
     "output_type": "execute_result"
    }
   ],
   "source": [
    "# And the 'engine' column\n",
    "\n",
    "all_data['engine'].unique()\n",
    "\n",
    "# includes null values"
   ]
  },
  {
   "cell_type": "code",
   "execution_count": 24,
   "id": "d52752f7",
   "metadata": {},
   "outputs": [
    {
     "data": {
      "text/plain": [
       "array(['Manual', 'Automatic'], dtype=object)"
      ]
     },
     "execution_count": 24,
     "metadata": {},
     "output_type": "execute_result"
    }
   ],
   "source": [
    "# And the 'gearbox' column\n",
    "\n",
    "all_data['gearbox'].unique()"
   ]
  },
  {
   "cell_type": "code",
   "execution_count": 25,
   "id": "e4327baf",
   "metadata": {},
   "outputs": [
    {
     "data": {
      "text/plain": [
       "array(['Euro 6', 'Euro 4', 'Euro 5', nan, 'Euro 3', 'Euro 2', 'Euro 1'],\n",
       "      dtype=object)"
      ]
     },
     "execution_count": 25,
     "metadata": {},
     "output_type": "execute_result"
    }
   ],
   "source": [
    "# And the 'emission_class' column\n",
    "\n",
    "all_data['emission_class'].unique()\n",
    "\n",
    "# includes null values"
   ]
  },
  {
   "cell_type": "code",
   "execution_count": 26,
   "id": "32539d75",
   "metadata": {},
   "outputs": [
    {
     "data": {
      "text/plain": [
       "array([nan, 'Full'], dtype=object)"
      ]
     },
     "execution_count": 26,
     "metadata": {},
     "output_type": "execute_result"
    }
   ],
   "source": [
    "# And the 'service_history' column\n",
    "\n",
    "all_data['service_history'].unique()\n",
    "\n",
    "# includes null values"
   ]
  },
  {
   "cell_type": "markdown",
   "id": "b8747541",
   "metadata": {},
   "source": [
    "So after examining the columns, I spotted a couple I could convert from categorical to numerical data \n",
    "* engine \n",
    "* emission_class"
   ]
  },
  {
   "cell_type": "markdown",
   "id": "3927ab97",
   "metadata": {},
   "source": [
    "### engine"
   ]
  },
  {
   "cell_type": "code",
   "execution_count": 27,
   "id": "b0bf0f51",
   "metadata": {},
   "outputs": [],
   "source": [
    "# Let's start with the 'engine' column - drop the 'L'\n",
    "\n",
    "all_data['engine'] = all_data['engine'].str.replace('L', '')"
   ]
  },
  {
   "cell_type": "code",
   "execution_count": 28,
   "id": "b719230b",
   "metadata": {},
   "outputs": [],
   "source": [
    "# Then change the data type from object to numeric\n",
    "\n",
    "all_data['engine'] = pd.to_numeric(all_data['engine'])"
   ]
  },
  {
   "cell_type": "code",
   "execution_count": 29,
   "id": "7880fbb3",
   "metadata": {},
   "outputs": [
    {
     "data": {
      "text/plain": [
       "array([1.4, 1.2, 1.3, 2. , 1.6, 2.3, 1.8, 1. , 3. , 1.5, 1.9, 2.4, 2.2,\n",
       "       3.5, 3.2, 2.5, 1.1, 3.1, 3.7, 2.6, 2.1, 2.8, 5. , 0.8, 2.7, 1.7,\n",
       "       0.9, 4.2, nan, 4.4, 4.3, 3.3, 5.5, 4.8, 6.3])"
      ]
     },
     "execution_count": 29,
     "metadata": {},
     "output_type": "execute_result"
    }
   ],
   "source": [
    "# Null values preserved?\n",
    "\n",
    "all_data['engine'].unique()"
   ]
  },
  {
   "cell_type": "markdown",
   "id": "afc3ba07",
   "metadata": {},
   "source": [
    "### emission_class"
   ]
  },
  {
   "cell_type": "code",
   "execution_count": 30,
   "id": "9b49382c",
   "metadata": {},
   "outputs": [],
   "source": [
    "# For the 'emission_class' column, let's drop 'Euro ' from the strings\n",
    "\n",
    "all_data['emission_class'] = all_data['emission_class'].str.replace('Euro ', '')"
   ]
  },
  {
   "cell_type": "code",
   "execution_count": 31,
   "id": "c1203123",
   "metadata": {},
   "outputs": [],
   "source": [
    "# Then change the data type from object to numerical data\n",
    "\n",
    "all_data['emission_class'] = pd.to_numeric(all_data['emission_class'])"
   ]
  },
  {
   "cell_type": "code",
   "execution_count": 32,
   "id": "322dd36d",
   "metadata": {},
   "outputs": [
    {
     "data": {
      "text/plain": [
       "array([ 6.,  4.,  5., nan,  3.,  2.,  1.])"
      ]
     },
     "execution_count": 32,
     "metadata": {},
     "output_type": "execute_result"
    }
   ],
   "source": [
    "# Null values preserved?\n",
    "\n",
    "all_data['emission_class'].unique()"
   ]
  },
  {
   "cell_type": "code",
   "execution_count": 33,
   "id": "39dc3473",
   "metadata": {},
   "outputs": [
    {
     "name": "stdout",
     "output_type": "stream",
     "text": [
      "<class 'pandas.core.frame.DataFrame'>\n",
      "Int64Index: 3687 entries, 0 to 3686\n",
      "Data columns (total 15 columns):\n",
      " #   Column           Non-Null Count  Dtype  \n",
      "---  ------           --------------  -----  \n",
      " 0   title            3687 non-null   object \n",
      " 1   price            3687 non-null   int64  \n",
      " 2   mileage          3687 non-null   int64  \n",
      " 3   reg_yr           3687 non-null   int64  \n",
      " 4   prev_owners      2276 non-null   float64\n",
      " 5   fuel_type        3687 non-null   object \n",
      " 6   body_type        3687 non-null   object \n",
      " 7   engine           3642 non-null   float64\n",
      " 8   gearbox          3687 non-null   object \n",
      " 9   doors            3662 non-null   float64\n",
      " 10  seats            3652 non-null   float64\n",
      " 11  emission_class   3600 non-null   float64\n",
      " 12  service_history  540 non-null    object \n",
      " 13  manufacturer     3687 non-null   object \n",
      " 14  country          3687 non-null   object \n",
      "dtypes: float64(5), int64(3), object(7)\n",
      "memory usage: 460.9+ KB\n"
     ]
    }
   ],
   "source": [
    "# Final check\n",
    "\n",
    "all_data.info()"
   ]
  },
  {
   "cell_type": "markdown",
   "id": "fc5268bf",
   "metadata": {},
   "source": [
    "## 3. 결측치 처리하기\n",
    "[힌트] Service history 변수의 결측치는 'Unknown'으로 채우고, 결측치 변수가 일정 개수 이상 포함된 데이터는 제거합니다."
   ]
  },
  {
   "cell_type": "code",
   "execution_count": 34,
   "id": "58e8d6d1",
   "metadata": {},
   "outputs": [
    {
     "data": {
      "text/plain": [
       "title                 0\n",
       "price                 0\n",
       "mileage               0\n",
       "reg_yr                0\n",
       "prev_owners        1411\n",
       "fuel_type             0\n",
       "body_type             0\n",
       "engine               45\n",
       "gearbox               0\n",
       "doors                25\n",
       "seats                35\n",
       "emission_class       87\n",
       "service_history    3147\n",
       "manufacturer          0\n",
       "country               0\n",
       "dtype: int64"
      ]
     },
     "execution_count": 34,
     "metadata": {},
     "output_type": "execute_result"
    }
   ],
   "source": [
    "# How many missing values do we have in each column?\n",
    "\n",
    "all_data.isna().sum()"
   ]
  },
  {
   "cell_type": "code",
   "execution_count": 35,
   "id": "b822554a",
   "metadata": {
    "scrolled": true
   },
   "outputs": [
    {
     "data": {
      "text/plain": [
       "title              0.000000\n",
       "price              0.000000\n",
       "mileage            0.000000\n",
       "reg_yr             0.000000\n",
       "prev_owners        0.382696\n",
       "fuel_type          0.000000\n",
       "body_type          0.000000\n",
       "engine             0.012205\n",
       "gearbox            0.000000\n",
       "doors              0.006781\n",
       "seats              0.009493\n",
       "emission_class     0.023596\n",
       "service_history    0.853539\n",
       "manufacturer       0.000000\n",
       "country            0.000000\n",
       "dtype: float64"
      ]
     },
     "execution_count": 35,
     "metadata": {},
     "output_type": "execute_result"
    }
   ],
   "source": [
    "# In percentage? \n",
    "\n",
    "all_data.isna().mean()"
   ]
  },
  {
   "cell_type": "markdown",
   "id": "aca1e36e",
   "metadata": {},
   "source": [
    "### service_history "
   ]
  },
  {
   "cell_type": "code",
   "execution_count": 36,
   "id": "65332f61",
   "metadata": {},
   "outputs": [],
   "source": [
    "# 'service_history' has the largest number of missing values - let's fill the null values with 'Unknown' as instructed\n",
    "\n",
    "all_data['service_history'] = all_data['service_history'].fillna('Unknown')"
   ]
  },
  {
   "cell_type": "markdown",
   "id": "b64b26e1",
   "metadata": {},
   "source": [
    "### prev_owners"
   ]
  },
  {
   "cell_type": "code",
   "execution_count": 37,
   "id": "b915a491",
   "metadata": {},
   "outputs": [
    {
     "data": {
      "text/plain": [
       "2.0    594\n",
       "1.0    523\n",
       "3.0    475\n",
       "4.0    360\n",
       "5.0    208\n",
       "6.0     60\n",
       "7.0     39\n",
       "8.0     12\n",
       "9.0      5\n",
       "Name: prev_owners, dtype: int64"
      ]
     },
     "execution_count": 37,
     "metadata": {},
     "output_type": "execute_result"
    }
   ],
   "source": [
    "# Moving on to the column with the second most missing values\n",
    "\n",
    "all_data['prev_owners'].value_counts()"
   ]
  },
  {
   "cell_type": "code",
   "execution_count": 38,
   "id": "ec05d413",
   "metadata": {},
   "outputs": [
    {
     "data": {
      "text/plain": [
       "<AxesSubplot:xlabel='prev_owners', ylabel='Count'>"
      ]
     },
     "execution_count": 38,
     "metadata": {},
     "output_type": "execute_result"
    },
    {
     "data": {
      "image/png": "[encoded data removed]",
      "text/plain": [
       "<Figure size 432x288 with 1 Axes>"
      ]
     },
     "metadata": {
      "needs_background": "light"
     },
     "output_type": "display_data"
    }
   ],
   "source": [
    "# See it in a histplot graph\n",
    "\n",
    "sns.histplot(all_data['prev_owners'])"
   ]
  },
  {
   "cell_type": "code",
   "execution_count": 39,
   "id": "5ef5ae6f",
   "metadata": {},
   "outputs": [
    {
     "data": {
      "text/plain": [
       "3.0"
      ]
     },
     "execution_count": 39,
     "metadata": {},
     "output_type": "execute_result"
    }
   ],
   "source": [
    "# Does replacing the missing values with the median make sense?\n",
    "\n",
    "all_data['prev_owners'].median()"
   ]
  },
  {
   "cell_type": "code",
   "execution_count": 40,
   "id": "afa30424",
   "metadata": {},
   "outputs": [],
   "source": [
    "# Given the long tail, it seems alright - let's do it\n",
    "\n",
    "all_data['prev_owners'] = all_data['prev_owners'].fillna(all_data['prev_owners'].median())"
   ]
  },
  {
   "cell_type": "markdown",
   "id": "24460c22",
   "metadata": {},
   "source": [
    "### emission_class"
   ]
  },
  {
   "cell_type": "code",
   "execution_count": 41,
   "id": "3c03944d",
   "metadata": {},
   "outputs": [
    {
     "data": {
      "text/plain": [
       "5.0    1257\n",
       "6.0    1109\n",
       "4.0    1068\n",
       "3.0     137\n",
       "2.0      25\n",
       "1.0       4\n",
       "Name: emission_class, dtype: int64"
      ]
     },
     "execution_count": 41,
     "metadata": {},
     "output_type": "execute_result"
    }
   ],
   "source": [
    "# The 'emission_class' column has third most missing values\n",
    "\n",
    "all_data['emission_class'].value_counts()"
   ]
  },
  {
   "cell_type": "code",
   "execution_count": 42,
   "id": "8bfdff7e",
   "metadata": {},
   "outputs": [
    {
     "data": {
      "text/plain": [
       "5.0"
      ]
     },
     "execution_count": 42,
     "metadata": {},
     "output_type": "execute_result"
    }
   ],
   "source": [
    "# Is replacing the missing values with the median a sound way to go? \n",
    "\n",
    "all_data['emission_class'].median()"
   ]
  },
  {
   "cell_type": "code",
   "execution_count": 43,
   "id": "0c212e31",
   "metadata": {},
   "outputs": [
    {
     "data": {
      "text/plain": [
       "0    5.0\n",
       "dtype: float64"
      ]
     },
     "execution_count": 43,
     "metadata": {},
     "output_type": "execute_result"
    }
   ],
   "source": [
    "# How does it compare to the mode?\n",
    "\n",
    "all_data['emission_class'].mode()"
   ]
  },
  {
   "cell_type": "code",
   "execution_count": 44,
   "id": "44edf0c4",
   "metadata": {},
   "outputs": [],
   "source": [
    "# Looks good - replace\n",
    "\n",
    "all_data['emission_class'] = all_data['emission_class'].fillna(all_data['emission_class'].median())"
   ]
  },
  {
   "cell_type": "markdown",
   "id": "6423f33d",
   "metadata": {},
   "source": [
    "### engine"
   ]
  },
  {
   "cell_type": "code",
   "execution_count": 45,
   "id": "771ff28b",
   "metadata": {},
   "outputs": [
    {
     "data": {
      "text/plain": [
       "1.6    736\n",
       "2.0    553\n",
       "1.2    521\n",
       "1.4    421\n",
       "1.0    326\n",
       "1.5    294\n",
       "1.3    170\n",
       "1.8    158\n",
       "3.0     79\n",
       "2.2     75\n",
       "2.1     63\n",
       "1.1     39\n",
       "1.7     35\n",
       "2.5     33\n",
       "1.9     31\n",
       "2.4     28\n",
       "0.9     15\n",
       "2.7     11\n",
       "3.5     10\n",
       "3.2      7\n",
       "3.7      5\n",
       "4.4      5\n",
       "2.3      4\n",
       "2.6      4\n",
       "4.2      4\n",
       "5.0      3\n",
       "2.8      3\n",
       "0.8      2\n",
       "4.3      2\n",
       "5.5      1\n",
       "4.8      1\n",
       "3.1      1\n",
       "3.3      1\n",
       "6.3      1\n",
       "Name: engine, dtype: int64"
      ]
     },
     "execution_count": 45,
     "metadata": {},
     "output_type": "execute_result"
    }
   ],
   "source": [
    "# Next, 'engine'\n",
    "\n",
    "all_data['engine'].value_counts()"
   ]
  },
  {
   "cell_type": "code",
   "execution_count": 46,
   "id": "d5c2f21e",
   "metadata": {},
   "outputs": [
    {
     "data": {
      "text/plain": [
       "<AxesSubplot:xlabel='engine', ylabel='Count'>"
      ]
     },
     "execution_count": 46,
     "metadata": {},
     "output_type": "execute_result"
    },
    {
     "data": {
      "image/png": "[encoded data removed]",
      "text/plain": [
       "<Figure size 432x288 with 1 Axes>"
      ]
     },
     "metadata": {
      "needs_background": "light"
     },
     "output_type": "display_data"
    }
   ],
   "source": [
    "# Tricky - let's look at the histplot\n",
    "\n",
    "sns.histplot(all_data['engine'])"
   ]
  },
  {
   "cell_type": "code",
   "execution_count": 47,
   "id": "11b3060d",
   "metadata": {},
   "outputs": [
    {
     "data": {
      "text/plain": [
       "1.6"
      ]
     },
     "execution_count": 47,
     "metadata": {},
     "output_type": "execute_result"
    }
   ],
   "source": [
    "# What's the median?\n",
    "\n",
    "all_data['engine'].median()"
   ]
  },
  {
   "cell_type": "code",
   "execution_count": 48,
   "id": "e3a2e065",
   "metadata": {},
   "outputs": [
    {
     "data": {
      "text/plain": [
       "0    1.6\n",
       "dtype: float64"
      ]
     },
     "execution_count": 48,
     "metadata": {},
     "output_type": "execute_result"
    }
   ],
   "source": [
    "# And the mode? \n",
    "\n",
    "all_data['engine'].mode()"
   ]
  },
  {
   "cell_type": "code",
   "execution_count": 49,
   "id": "6b782569",
   "metadata": {},
   "outputs": [],
   "source": [
    "# 1.6  is the mode and the median - legit \n",
    "\n",
    "all_data['engine'] = all_data['engine'].fillna(all_data['engine'].median())"
   ]
  },
  {
   "cell_type": "markdown",
   "id": "ed32f723",
   "metadata": {},
   "source": [
    "### the rest \n",
    "\n",
    "Let's get rid of rows for columns with missing values for which the count < 50 and in percetage < 1%"
   ]
  },
  {
   "cell_type": "code",
   "execution_count": 50,
   "id": "167561df",
   "metadata": {},
   "outputs": [],
   "source": [
    "# Drop the missing values in 'doors' and 'seats' columns\n",
    "\n",
    "all_data.dropna(subset = ['doors', 'seats'], inplace=True)"
   ]
  },
  {
   "cell_type": "code",
   "execution_count": 51,
   "id": "de086096",
   "metadata": {},
   "outputs": [
    {
     "data": {
      "text/plain": [
       "title              0\n",
       "price              0\n",
       "mileage            0\n",
       "reg_yr             0\n",
       "prev_owners        0\n",
       "fuel_type          0\n",
       "body_type          0\n",
       "engine             0\n",
       "gearbox            0\n",
       "doors              0\n",
       "seats              0\n",
       "emission_class     0\n",
       "service_history    0\n",
       "manufacturer       0\n",
       "country            0\n",
       "dtype: int64"
      ]
     },
     "execution_count": 51,
     "metadata": {},
     "output_type": "execute_result"
    }
   ],
   "source": [
    "# Make sure there are no missing values left anymore\n",
    "\n",
    "all_data.isna().sum()"
   ]
  },
  {
   "cell_type": "code",
   "execution_count": 52,
   "id": "4930e70d",
   "metadata": {},
   "outputs": [],
   "source": [
    "# Index the table again\n",
    "\n",
    "all_data.reset_index(drop=True, inplace=True)"
   ]
  },
  {
   "cell_type": "markdown",
   "id": "bdc42d14",
   "metadata": {},
   "source": [
    "## 4. Scaler 활용해보기"
   ]
  },
  {
   "cell_type": "code",
   "execution_count": 53,
   "id": "a2b94807",
   "metadata": {},
   "outputs": [
    {
     "data": {
      "text/html": [
       "<div>\n",
       "<style scoped>\n",
       "    .dataframe tbody tr th:only-of-type {\n",
       "        vertical-align: middle;\n",
       "    }\n",
       "\n",
       "    .dataframe tbody tr th {\n",
       "        vertical-align: top;\n",
       "    }\n",
       "\n",
       "    .dataframe thead th {\n",
       "        text-align: right;\n",
       "    }\n",
       "</style>\n",
       "<table border=\"1\" class=\"dataframe\">\n",
       "  <thead>\n",
       "    <tr style=\"text-align: right;\">\n",
       "      <th></th>\n",
       "      <th>price</th>\n",
       "      <th>mileage</th>\n",
       "      <th>reg_yr</th>\n",
       "      <th>prev_owners</th>\n",
       "      <th>engine</th>\n",
       "      <th>doors</th>\n",
       "      <th>seats</th>\n",
       "      <th>emission_class</th>\n",
       "    </tr>\n",
       "  </thead>\n",
       "  <tbody>\n",
       "    <tr>\n",
       "      <th>count</th>\n",
       "      <td>3642.000000</td>\n",
       "      <td>3.642000e+03</td>\n",
       "      <td>3642.000000</td>\n",
       "      <td>3642.000000</td>\n",
       "      <td>3642.000000</td>\n",
       "      <td>3642.000000</td>\n",
       "      <td>3642.000000</td>\n",
       "      <td>3642.000000</td>\n",
       "    </tr>\n",
       "    <tr>\n",
       "      <th>mean</th>\n",
       "      <td>5791.688907</td>\n",
       "      <td>8.133136e+04</td>\n",
       "      <td>2011.959912</td>\n",
       "      <td>2.878913</td>\n",
       "      <td>1.603405</td>\n",
       "      <td>4.325096</td>\n",
       "      <td>4.900329</td>\n",
       "      <td>4.916255</td>\n",
       "    </tr>\n",
       "    <tr>\n",
       "      <th>std</th>\n",
       "      <td>4492.503750</td>\n",
       "      <td>3.940404e+04</td>\n",
       "      <td>4.760457</td>\n",
       "      <td>1.218010</td>\n",
       "      <td>0.482975</td>\n",
       "      <td>0.984232</td>\n",
       "      <td>0.574764</td>\n",
       "      <td>0.895755</td>\n",
       "    </tr>\n",
       "    <tr>\n",
       "      <th>min</th>\n",
       "      <td>400.000000</td>\n",
       "      <td>1.000000e+00</td>\n",
       "      <td>1987.000000</td>\n",
       "      <td>1.000000</td>\n",
       "      <td>0.800000</td>\n",
       "      <td>2.000000</td>\n",
       "      <td>2.000000</td>\n",
       "      <td>1.000000</td>\n",
       "    </tr>\n",
       "    <tr>\n",
       "      <th>25%</th>\n",
       "      <td>2490.000000</td>\n",
       "      <td>5.698400e+04</td>\n",
       "      <td>2008.000000</td>\n",
       "      <td>2.000000</td>\n",
       "      <td>1.300000</td>\n",
       "      <td>3.000000</td>\n",
       "      <td>5.000000</td>\n",
       "      <td>4.000000</td>\n",
       "    </tr>\n",
       "    <tr>\n",
       "      <th>50%</th>\n",
       "      <td>4000.000000</td>\n",
       "      <td>8.000000e+04</td>\n",
       "      <td>2012.000000</td>\n",
       "      <td>3.000000</td>\n",
       "      <td>1.600000</td>\n",
       "      <td>5.000000</td>\n",
       "      <td>5.000000</td>\n",
       "      <td>5.000000</td>\n",
       "    </tr>\n",
       "    <tr>\n",
       "      <th>75%</th>\n",
       "      <td>7998.000000</td>\n",
       "      <td>1.030000e+05</td>\n",
       "      <td>2016.000000</td>\n",
       "      <td>3.000000</td>\n",
       "      <td>1.800000</td>\n",
       "      <td>5.000000</td>\n",
       "      <td>5.000000</td>\n",
       "      <td>6.000000</td>\n",
       "    </tr>\n",
       "    <tr>\n",
       "      <th>max</th>\n",
       "      <td>33900.000000</td>\n",
       "      <td>1.110100e+06</td>\n",
       "      <td>2023.000000</td>\n",
       "      <td>9.000000</td>\n",
       "      <td>6.300000</td>\n",
       "      <td>5.000000</td>\n",
       "      <td>7.000000</td>\n",
       "      <td>6.000000</td>\n",
       "    </tr>\n",
       "  </tbody>\n",
       "</table>\n",
       "</div>"
      ],
      "text/plain": [
       "              price       mileage       reg_yr  prev_owners       engine  \\\n",
       "count   3642.000000  3.642000e+03  3642.000000  3642.000000  3642.000000   \n",
       "mean    5791.688907  8.133136e+04  2011.959912     2.878913     1.603405   \n",
       "std     4492.503750  3.940404e+04     4.760457     1.218010     0.482975   \n",
       "min      400.000000  1.000000e+00  1987.000000     1.000000     0.800000   \n",
       "25%     2490.000000  5.698400e+04  2008.000000     2.000000     1.300000   \n",
       "50%     4000.000000  8.000000e+04  2012.000000     3.000000     1.600000   \n",
       "75%     7998.000000  1.030000e+05  2016.000000     3.000000     1.800000   \n",
       "max    33900.000000  1.110100e+06  2023.000000     9.000000     6.300000   \n",
       "\n",
       "             doors        seats  emission_class  \n",
       "count  3642.000000  3642.000000     3642.000000  \n",
       "mean      4.325096     4.900329        4.916255  \n",
       "std       0.984232     0.574764        0.895755  \n",
       "min       2.000000     2.000000        1.000000  \n",
       "25%       3.000000     5.000000        4.000000  \n",
       "50%       5.000000     5.000000        5.000000  \n",
       "75%       5.000000     5.000000        6.000000  \n",
       "max       5.000000     7.000000        6.000000  "
      ]
     },
     "execution_count": 53,
     "metadata": {},
     "output_type": "execute_result"
    }
   ],
   "source": [
    "# Summary of the DataFrame \n",
    "\n",
    "all_data.describe()"
   ]
  },
  {
   "cell_type": "markdown",
   "id": "5b139277",
   "metadata": {},
   "source": [
    "The 'price' and 'mileage' columns seem like they will benefit from scaling.\n",
    "On the other hand, the min/max values for 'mileage' look dubious - possible outliers. "
   ]
  },
  {
   "cell_type": "markdown",
   "id": "71a39745",
   "metadata": {},
   "source": [
    "### Outliers \n",
    "\n",
    "Let's deal with the outliers in the 'mileage' column first"
   ]
  },
  {
   "cell_type": "code",
   "execution_count": 54,
   "id": "a5b016d3",
   "metadata": {},
   "outputs": [
    {
     "data": {
      "text/html": [
       "<div>\n",
       "<style scoped>\n",
       "    .dataframe tbody tr th:only-of-type {\n",
       "        vertical-align: middle;\n",
       "    }\n",
       "\n",
       "    .dataframe tbody tr th {\n",
       "        vertical-align: top;\n",
       "    }\n",
       "\n",
       "    .dataframe thead th {\n",
       "        text-align: right;\n",
       "    }\n",
       "</style>\n",
       "<table border=\"1\" class=\"dataframe\">\n",
       "  <thead>\n",
       "    <tr style=\"text-align: right;\">\n",
       "      <th></th>\n",
       "      <th>title</th>\n",
       "      <th>price</th>\n",
       "      <th>mileage</th>\n",
       "      <th>reg_yr</th>\n",
       "      <th>prev_owners</th>\n",
       "      <th>fuel_type</th>\n",
       "      <th>body_type</th>\n",
       "      <th>engine</th>\n",
       "      <th>gearbox</th>\n",
       "      <th>doors</th>\n",
       "      <th>seats</th>\n",
       "      <th>emission_class</th>\n",
       "      <th>service_history</th>\n",
       "      <th>manufacturer</th>\n",
       "      <th>country</th>\n",
       "    </tr>\n",
       "  </thead>\n",
       "  <tbody>\n",
       "    <tr>\n",
       "      <th>3176</th>\n",
       "      <td>MG MG ZS</td>\n",
       "      <td>18515</td>\n",
       "      <td>1</td>\n",
       "      <td>2023</td>\n",
       "      <td>3.0</td>\n",
       "      <td>Petrol</td>\n",
       "      <td>SUV</td>\n",
       "      <td>1.5</td>\n",
       "      <td>Manual</td>\n",
       "      <td>5.0</td>\n",
       "      <td>5.0</td>\n",
       "      <td>6.0</td>\n",
       "      <td>Unknown</td>\n",
       "      <td>MG</td>\n",
       "      <td>United Kingdom</td>\n",
       "    </tr>\n",
       "    <tr>\n",
       "      <th>3058</th>\n",
       "      <td>MG MG ZS</td>\n",
       "      <td>18365</td>\n",
       "      <td>1</td>\n",
       "      <td>2023</td>\n",
       "      <td>3.0</td>\n",
       "      <td>Petrol</td>\n",
       "      <td>SUV</td>\n",
       "      <td>1.5</td>\n",
       "      <td>Manual</td>\n",
       "      <td>5.0</td>\n",
       "      <td>5.0</td>\n",
       "      <td>6.0</td>\n",
       "      <td>Unknown</td>\n",
       "      <td>MG</td>\n",
       "      <td>United Kingdom</td>\n",
       "    </tr>\n",
       "    <tr>\n",
       "      <th>1982</th>\n",
       "      <td>MG ZT</td>\n",
       "      <td>15500</td>\n",
       "      <td>6</td>\n",
       "      <td>2004</td>\n",
       "      <td>4.0</td>\n",
       "      <td>Petrol</td>\n",
       "      <td>Saloon</td>\n",
       "      <td>1.8</td>\n",
       "      <td>Manual</td>\n",
       "      <td>4.0</td>\n",
       "      <td>5.0</td>\n",
       "      <td>3.0</td>\n",
       "      <td>Unknown</td>\n",
       "      <td>MG</td>\n",
       "      <td>United Kingdom</td>\n",
       "    </tr>\n",
       "    <tr>\n",
       "      <th>3060</th>\n",
       "      <td>SEAT ATECA</td>\n",
       "      <td>25995</td>\n",
       "      <td>222</td>\n",
       "      <td>2023</td>\n",
       "      <td>3.0</td>\n",
       "      <td>Petrol</td>\n",
       "      <td>SUV</td>\n",
       "      <td>1.5</td>\n",
       "      <td>Manual</td>\n",
       "      <td>5.0</td>\n",
       "      <td>5.0</td>\n",
       "      <td>6.0</td>\n",
       "      <td>Unknown</td>\n",
       "      <td>SEAT</td>\n",
       "      <td>Spain</td>\n",
       "    </tr>\n",
       "    <tr>\n",
       "      <th>2720</th>\n",
       "      <td>MG MG HS</td>\n",
       "      <td>21495</td>\n",
       "      <td>1048</td>\n",
       "      <td>2023</td>\n",
       "      <td>1.0</td>\n",
       "      <td>Petrol</td>\n",
       "      <td>SUV</td>\n",
       "      <td>1.5</td>\n",
       "      <td>Automatic</td>\n",
       "      <td>5.0</td>\n",
       "      <td>5.0</td>\n",
       "      <td>6.0</td>\n",
       "      <td>Unknown</td>\n",
       "      <td>MG</td>\n",
       "      <td>United Kingdom</td>\n",
       "    </tr>\n",
       "  </tbody>\n",
       "</table>\n",
       "</div>"
      ],
      "text/plain": [
       "           title  price  mileage  reg_yr  prev_owners fuel_type body_type  \\\n",
       "3176    MG MG ZS  18515        1    2023          3.0    Petrol       SUV   \n",
       "3058    MG MG ZS  18365        1    2023          3.0    Petrol       SUV   \n",
       "1982       MG ZT  15500        6    2004          4.0    Petrol    Saloon   \n",
       "3060  SEAT ATECA  25995      222    2023          3.0    Petrol       SUV   \n",
       "2720    MG MG HS  21495     1048    2023          1.0    Petrol       SUV   \n",
       "\n",
       "      engine    gearbox  doors  seats  emission_class service_history  \\\n",
       "3176     1.5     Manual    5.0    5.0             6.0         Unknown   \n",
       "3058     1.5     Manual    5.0    5.0             6.0         Unknown   \n",
       "1982     1.8     Manual    4.0    5.0             3.0         Unknown   \n",
       "3060     1.5     Manual    5.0    5.0             6.0         Unknown   \n",
       "2720     1.5  Automatic    5.0    5.0             6.0         Unknown   \n",
       "\n",
       "     manufacturer         country  \n",
       "3176           MG  United Kingdom  \n",
       "3058           MG  United Kingdom  \n",
       "1982           MG  United Kingdom  \n",
       "3060         SEAT           Spain  \n",
       "2720           MG  United Kingdom  "
      ]
     },
     "execution_count": 54,
     "metadata": {},
     "output_type": "execute_result"
    }
   ],
   "source": [
    "# What are the rows with 5 lowest mileage values?\n",
    "\n",
    "all_data.sort_values(by='mileage').head()"
   ]
  },
  {
   "cell_type": "code",
   "execution_count": 55,
   "id": "c129de5f",
   "metadata": {},
   "outputs": [],
   "source": [
    "# Let's drop the three rows with > 10 mileage value\n",
    "\n",
    "all_data.drop([3176, 3058, 1982], axis=0, inplace=True)"
   ]
  },
  {
   "cell_type": "code",
   "execution_count": 56,
   "id": "dd8095e2",
   "metadata": {},
   "outputs": [
    {
     "data": {
      "text/html": [
       "<div>\n",
       "<style scoped>\n",
       "    .dataframe tbody tr th:only-of-type {\n",
       "        vertical-align: middle;\n",
       "    }\n",
       "\n",
       "    .dataframe tbody tr th {\n",
       "        vertical-align: top;\n",
       "    }\n",
       "\n",
       "    .dataframe thead th {\n",
       "        text-align: right;\n",
       "    }\n",
       "</style>\n",
       "<table border=\"1\" class=\"dataframe\">\n",
       "  <thead>\n",
       "    <tr style=\"text-align: right;\">\n",
       "      <th></th>\n",
       "      <th>title</th>\n",
       "      <th>price</th>\n",
       "      <th>mileage</th>\n",
       "      <th>reg_yr</th>\n",
       "      <th>prev_owners</th>\n",
       "      <th>fuel_type</th>\n",
       "      <th>body_type</th>\n",
       "      <th>engine</th>\n",
       "      <th>gearbox</th>\n",
       "      <th>doors</th>\n",
       "      <th>seats</th>\n",
       "      <th>emission_class</th>\n",
       "      <th>service_history</th>\n",
       "      <th>manufacturer</th>\n",
       "      <th>country</th>\n",
       "    </tr>\n",
       "  </thead>\n",
       "  <tbody>\n",
       "    <tr>\n",
       "      <th>1021</th>\n",
       "      <td>VOLKSWAGEN BEETLE</td>\n",
       "      <td>2495</td>\n",
       "      <td>1110100</td>\n",
       "      <td>2003</td>\n",
       "      <td>4.0</td>\n",
       "      <td>Petrol</td>\n",
       "      <td>Hatchback</td>\n",
       "      <td>2.0</td>\n",
       "      <td>Automatic</td>\n",
       "      <td>3.0</td>\n",
       "      <td>4.0</td>\n",
       "      <td>4.0</td>\n",
       "      <td>Unknown</td>\n",
       "      <td>VOLKSWAGEN</td>\n",
       "      <td>Germany</td>\n",
       "    </tr>\n",
       "    <tr>\n",
       "      <th>1903</th>\n",
       "      <td>VOLVO V70</td>\n",
       "      <td>795</td>\n",
       "      <td>274100</td>\n",
       "      <td>2004</td>\n",
       "      <td>6.0</td>\n",
       "      <td>Petrol</td>\n",
       "      <td>Estate</td>\n",
       "      <td>2.4</td>\n",
       "      <td>Automatic</td>\n",
       "      <td>5.0</td>\n",
       "      <td>5.0</td>\n",
       "      <td>3.0</td>\n",
       "      <td>Unknown</td>\n",
       "      <td>VOLVO</td>\n",
       "      <td>Sweden</td>\n",
       "    </tr>\n",
       "    <tr>\n",
       "      <th>2015</th>\n",
       "      <td>VOLVO V70</td>\n",
       "      <td>795</td>\n",
       "      <td>274100</td>\n",
       "      <td>2004</td>\n",
       "      <td>6.0</td>\n",
       "      <td>Petrol</td>\n",
       "      <td>Estate</td>\n",
       "      <td>2.4</td>\n",
       "      <td>Automatic</td>\n",
       "      <td>5.0</td>\n",
       "      <td>5.0</td>\n",
       "      <td>3.0</td>\n",
       "      <td>Unknown</td>\n",
       "      <td>VOLVO</td>\n",
       "      <td>Sweden</td>\n",
       "    </tr>\n",
       "    <tr>\n",
       "      <th>1237</th>\n",
       "      <td>VOLVO V70</td>\n",
       "      <td>795</td>\n",
       "      <td>274100</td>\n",
       "      <td>2004</td>\n",
       "      <td>6.0</td>\n",
       "      <td>Petrol</td>\n",
       "      <td>Estate</td>\n",
       "      <td>2.4</td>\n",
       "      <td>Automatic</td>\n",
       "      <td>5.0</td>\n",
       "      <td>5.0</td>\n",
       "      <td>3.0</td>\n",
       "      <td>Unknown</td>\n",
       "      <td>VOLVO</td>\n",
       "      <td>Sweden</td>\n",
       "    </tr>\n",
       "    <tr>\n",
       "      <th>1656</th>\n",
       "      <td>VOLVO V70</td>\n",
       "      <td>795</td>\n",
       "      <td>274100</td>\n",
       "      <td>2004</td>\n",
       "      <td>6.0</td>\n",
       "      <td>Petrol</td>\n",
       "      <td>Estate</td>\n",
       "      <td>2.4</td>\n",
       "      <td>Automatic</td>\n",
       "      <td>5.0</td>\n",
       "      <td>5.0</td>\n",
       "      <td>3.0</td>\n",
       "      <td>Unknown</td>\n",
       "      <td>VOLVO</td>\n",
       "      <td>Sweden</td>\n",
       "    </tr>\n",
       "  </tbody>\n",
       "</table>\n",
       "</div>"
      ],
      "text/plain": [
       "                  title  price  mileage  reg_yr  prev_owners fuel_type  \\\n",
       "1021  VOLKSWAGEN BEETLE   2495  1110100    2003          4.0    Petrol   \n",
       "1903          VOLVO V70    795   274100    2004          6.0    Petrol   \n",
       "2015          VOLVO V70    795   274100    2004          6.0    Petrol   \n",
       "1237          VOLVO V70    795   274100    2004          6.0    Petrol   \n",
       "1656          VOLVO V70    795   274100    2004          6.0    Petrol   \n",
       "\n",
       "      body_type  engine    gearbox  doors  seats  emission_class  \\\n",
       "1021  Hatchback     2.0  Automatic    3.0    4.0             4.0   \n",
       "1903     Estate     2.4  Automatic    5.0    5.0             3.0   \n",
       "2015     Estate     2.4  Automatic    5.0    5.0             3.0   \n",
       "1237     Estate     2.4  Automatic    5.0    5.0             3.0   \n",
       "1656     Estate     2.4  Automatic    5.0    5.0             3.0   \n",
       "\n",
       "     service_history manufacturer  country  \n",
       "1021         Unknown   VOLKSWAGEN  Germany  \n",
       "1903         Unknown        VOLVO   Sweden  \n",
       "2015         Unknown        VOLVO   Sweden  \n",
       "1237         Unknown        VOLVO   Sweden  \n",
       "1656         Unknown        VOLVO   Sweden  "
      ]
     },
     "execution_count": 56,
     "metadata": {},
     "output_type": "execute_result"
    }
   ],
   "source": [
    "# What are the rows with 5 highest mileage values?\n",
    "\n",
    "all_data.sort_values(by='mileage', ascending=False).head()"
   ]
  },
  {
   "cell_type": "code",
   "execution_count": 57,
   "id": "13895a60",
   "metadata": {},
   "outputs": [],
   "source": [
    "# Let's drop the top row for sure\n",
    "\n",
    "all_data.drop(1021, axis=0, inplace=True)"
   ]
  },
  {
   "cell_type": "code",
   "execution_count": 58,
   "id": "7d394d86",
   "metadata": {},
   "outputs": [
    {
     "data": {
      "text/html": [
       "<div>\n",
       "<style scoped>\n",
       "    .dataframe tbody tr th:only-of-type {\n",
       "        vertical-align: middle;\n",
       "    }\n",
       "\n",
       "    .dataframe tbody tr th {\n",
       "        vertical-align: top;\n",
       "    }\n",
       "\n",
       "    .dataframe thead th {\n",
       "        text-align: right;\n",
       "    }\n",
       "</style>\n",
       "<table border=\"1\" class=\"dataframe\">\n",
       "  <thead>\n",
       "    <tr style=\"text-align: right;\">\n",
       "      <th></th>\n",
       "      <th>price</th>\n",
       "      <th>mileage</th>\n",
       "      <th>reg_yr</th>\n",
       "      <th>prev_owners</th>\n",
       "      <th>engine</th>\n",
       "      <th>doors</th>\n",
       "      <th>seats</th>\n",
       "      <th>emission_class</th>\n",
       "    </tr>\n",
       "  </thead>\n",
       "  <tbody>\n",
       "    <tr>\n",
       "      <th>count</th>\n",
       "      <td>3638.000000</td>\n",
       "      <td>3638.000000</td>\n",
       "      <td>3638.000000</td>\n",
       "      <td>3638.000000</td>\n",
       "      <td>3638.000000</td>\n",
       "      <td>3638.000000</td>\n",
       "      <td>3638.000000</td>\n",
       "      <td>3638.000000</td>\n",
       "    </tr>\n",
       "    <tr>\n",
       "      <th>mean</th>\n",
       "      <td>5782.973062</td>\n",
       "      <td>81115.641286</td>\n",
       "      <td>2011.958494</td>\n",
       "      <td>2.878230</td>\n",
       "      <td>1.603299</td>\n",
       "      <td>4.325179</td>\n",
       "      <td>4.900495</td>\n",
       "      <td>4.916438</td>\n",
       "    </tr>\n",
       "    <tr>\n",
       "      <th>std</th>\n",
       "      <td>4481.945064</td>\n",
       "      <td>35466.662377</td>\n",
       "      <td>4.751879</td>\n",
       "      <td>1.218393</td>\n",
       "      <td>0.483179</td>\n",
       "      <td>0.984386</td>\n",
       "      <td>0.574879</td>\n",
       "      <td>0.895195</td>\n",
       "    </tr>\n",
       "    <tr>\n",
       "      <th>min</th>\n",
       "      <td>400.000000</td>\n",
       "      <td>222.000000</td>\n",
       "      <td>1987.000000</td>\n",
       "      <td>1.000000</td>\n",
       "      <td>0.800000</td>\n",
       "      <td>2.000000</td>\n",
       "      <td>2.000000</td>\n",
       "      <td>1.000000</td>\n",
       "    </tr>\n",
       "    <tr>\n",
       "      <th>25%</th>\n",
       "      <td>2490.000000</td>\n",
       "      <td>56984.000000</td>\n",
       "      <td>2008.000000</td>\n",
       "      <td>2.000000</td>\n",
       "      <td>1.300000</td>\n",
       "      <td>3.000000</td>\n",
       "      <td>5.000000</td>\n",
       "      <td>4.000000</td>\n",
       "    </tr>\n",
       "    <tr>\n",
       "      <th>50%</th>\n",
       "      <td>4000.000000</td>\n",
       "      <td>80000.000000</td>\n",
       "      <td>2012.000000</td>\n",
       "      <td>3.000000</td>\n",
       "      <td>1.600000</td>\n",
       "      <td>5.000000</td>\n",
       "      <td>5.000000</td>\n",
       "      <td>5.000000</td>\n",
       "    </tr>\n",
       "    <tr>\n",
       "      <th>75%</th>\n",
       "      <td>7995.000000</td>\n",
       "      <td>103000.000000</td>\n",
       "      <td>2016.000000</td>\n",
       "      <td>3.000000</td>\n",
       "      <td>1.800000</td>\n",
       "      <td>5.000000</td>\n",
       "      <td>5.000000</td>\n",
       "      <td>6.000000</td>\n",
       "    </tr>\n",
       "    <tr>\n",
       "      <th>max</th>\n",
       "      <td>33900.000000</td>\n",
       "      <td>274100.000000</td>\n",
       "      <td>2023.000000</td>\n",
       "      <td>9.000000</td>\n",
       "      <td>6.300000</td>\n",
       "      <td>5.000000</td>\n",
       "      <td>7.000000</td>\n",
       "      <td>6.000000</td>\n",
       "    </tr>\n",
       "  </tbody>\n",
       "</table>\n",
       "</div>"
      ],
      "text/plain": [
       "              price        mileage       reg_yr  prev_owners       engine  \\\n",
       "count   3638.000000    3638.000000  3638.000000  3638.000000  3638.000000   \n",
       "mean    5782.973062   81115.641286  2011.958494     2.878230     1.603299   \n",
       "std     4481.945064   35466.662377     4.751879     1.218393     0.483179   \n",
       "min      400.000000     222.000000  1987.000000     1.000000     0.800000   \n",
       "25%     2490.000000   56984.000000  2008.000000     2.000000     1.300000   \n",
       "50%     4000.000000   80000.000000  2012.000000     3.000000     1.600000   \n",
       "75%     7995.000000  103000.000000  2016.000000     3.000000     1.800000   \n",
       "max    33900.000000  274100.000000  2023.000000     9.000000     6.300000   \n",
       "\n",
       "             doors        seats  emission_class  \n",
       "count  3638.000000  3638.000000     3638.000000  \n",
       "mean      4.325179     4.900495        4.916438  \n",
       "std       0.984386     0.574879        0.895195  \n",
       "min       2.000000     2.000000        1.000000  \n",
       "25%       3.000000     5.000000        4.000000  \n",
       "50%       5.000000     5.000000        5.000000  \n",
       "75%       5.000000     5.000000        6.000000  \n",
       "max       5.000000     7.000000        6.000000  "
      ]
     },
     "execution_count": 58,
     "metadata": {},
     "output_type": "execute_result"
    }
   ],
   "source": [
    "# Verify the changes\n",
    "\n",
    "all_data.describe()"
   ]
  },
  {
   "cell_type": "markdown",
   "id": "381f5aaa",
   "metadata": {},
   "source": [
    "### Scaling - price"
   ]
  },
  {
   "cell_type": "code",
   "execution_count": 59,
   "id": "2f5c98ae",
   "metadata": {},
   "outputs": [
    {
     "data": {
      "text/plain": [
       "<AxesSubplot:xlabel='price', ylabel='Count'>"
      ]
     },
     "execution_count": 59,
     "metadata": {},
     "output_type": "execute_result"
    },
    {
     "data": {
      "image/png": "[encoded data removed]",
      "text/plain": [
       "<Figure size 432x288 with 1 Axes>"
      ]
     },
     "metadata": {
      "needs_background": "light"
     },
     "output_type": "display_data"
    }
   ],
   "source": [
    "# Let's check the distribution \n",
    "\n",
    "sns.histplot(all_data['price'])"
   ]
  },
  {
   "cell_type": "code",
   "execution_count": 60,
   "id": "146ac7dc",
   "metadata": {},
   "outputs": [
    {
     "data": {
      "text/plain": [
       "<AxesSubplot:xlabel='price', ylabel='Count'>"
      ]
     },
     "execution_count": 60,
     "metadata": {},
     "output_type": "execute_result"
    },
    {
     "data": {
      "image/png": "[encoded data removed]",
      "text/plain": [
       "<Figure size 432x288 with 1 Axes>"
      ]
     },
     "metadata": {
      "needs_background": "light"
     },
     "output_type": "display_data"
    }
   ],
   "source": [
    "# Log transformation so the data will follow normal distribution\n",
    "\n",
    "sns.histplot(np.log1p(all_data['price']))\n",
    "\n",
    "# log1p <--> expm1"
   ]
  },
  {
   "cell_type": "code",
   "execution_count": 61,
   "id": "a722b850",
   "metadata": {},
   "outputs": [],
   "source": [
    "# Import the scalers from scikit-learn\n",
    "\n",
    "from sklearn.preprocessing import StandardScaler, RobustScaler, MinMaxScaler"
   ]
  },
  {
   "cell_type": "code",
   "execution_count": 62,
   "id": "74451230",
   "metadata": {},
   "outputs": [],
   "source": [
    "# Define the scalers\n",
    "\n",
    "ss = StandardScaler()\n",
    "rs = RobustScaler()\n",
    "mm = MinMaxScaler()"
   ]
  },
  {
   "cell_type": "code",
   "execution_count": 63,
   "id": "d97f953f",
   "metadata": {},
   "outputs": [],
   "source": [
    "# Reshape the 'mileage' column to be 2D\n",
    "\n",
    "price_reshaped = np.log1p(all_data['price']).values.reshape(-1, 1)"
   ]
  },
  {
   "cell_type": "code",
   "execution_count": 64,
   "id": "15f5deb5",
   "metadata": {},
   "outputs": [],
   "source": [
    "# Create a copy to store scaled results\n",
    "\n",
    "all_data_scaled = all_data.copy()"
   ]
  },
  {
   "cell_type": "code",
   "execution_count": 65,
   "id": "ca76002a",
   "metadata": {},
   "outputs": [],
   "source": [
    "# Fit and transform, then replace the old 'price' column\n",
    "\n",
    "all_data_scaled['price'] = ss.fit_transform(price_reshaped)"
   ]
  },
  {
   "cell_type": "markdown",
   "id": "357fcdfd",
   "metadata": {},
   "source": [
    "### Scaling - mileage"
   ]
  },
  {
   "cell_type": "code",
   "execution_count": 66,
   "id": "dcd31ab5",
   "metadata": {},
   "outputs": [
    {
     "data": {
      "text/plain": [
       "<AxesSubplot:xlabel='mileage', ylabel='Count'>"
      ]
     },
     "execution_count": 66,
     "metadata": {},
     "output_type": "execute_result"
    },
    {
     "data": {
      "image/png": "[encoded data removed]",
      "text/plain": [
       "<Figure size 432x288 with 1 Axes>"
      ]
     },
     "metadata": {
      "needs_background": "light"
     },
     "output_type": "display_data"
    }
   ],
   "source": [
    "# Check the distribution \n",
    "\n",
    "sns.histplot(all_data['mileage'])\n",
    "\n",
    "# Reasonably bell-shaped "
   ]
  },
  {
   "cell_type": "code",
   "execution_count": 67,
   "id": "b755b222",
   "metadata": {},
   "outputs": [],
   "source": [
    "# Reshape the 'mileage' column to be 2D\n",
    "\n",
    "mileage_reshaped = np.log1p(all_data['mileage']).values.reshape(-1, 1)"
   ]
  },
  {
   "cell_type": "code",
   "execution_count": 68,
   "id": "ad730776",
   "metadata": {},
   "outputs": [],
   "source": [
    "# Fit and transform, then replace the old 'mileage' column\n",
    "\n",
    "all_data_scaled['mileage'] = ss.fit_transform(mileage_reshaped)"
   ]
  },
  {
   "cell_type": "code",
   "execution_count": 69,
   "id": "6e5f57ca",
   "metadata": {},
   "outputs": [
    {
     "data": {
      "text/html": [
       "<div>\n",
       "<style scoped>\n",
       "    .dataframe tbody tr th:only-of-type {\n",
       "        vertical-align: middle;\n",
       "    }\n",
       "\n",
       "    .dataframe tbody tr th {\n",
       "        vertical-align: top;\n",
       "    }\n",
       "\n",
       "    .dataframe thead th {\n",
       "        text-align: right;\n",
       "    }\n",
       "</style>\n",
       "<table border=\"1\" class=\"dataframe\">\n",
       "  <thead>\n",
       "    <tr style=\"text-align: right;\">\n",
       "      <th></th>\n",
       "      <th>price</th>\n",
       "      <th>mileage</th>\n",
       "      <th>reg_yr</th>\n",
       "      <th>prev_owners</th>\n",
       "      <th>engine</th>\n",
       "      <th>doors</th>\n",
       "      <th>seats</th>\n",
       "      <th>emission_class</th>\n",
       "    </tr>\n",
       "  </thead>\n",
       "  <tbody>\n",
       "    <tr>\n",
       "      <th>count</th>\n",
       "      <td>3.638000e+03</td>\n",
       "      <td>3.638000e+03</td>\n",
       "      <td>3638.000000</td>\n",
       "      <td>3638.000000</td>\n",
       "      <td>3638.000000</td>\n",
       "      <td>3638.000000</td>\n",
       "      <td>3638.000000</td>\n",
       "      <td>3638.000000</td>\n",
       "    </tr>\n",
       "    <tr>\n",
       "      <th>mean</th>\n",
       "      <td>-1.234368e-15</td>\n",
       "      <td>-1.218743e-15</td>\n",
       "      <td>2011.958494</td>\n",
       "      <td>2.878230</td>\n",
       "      <td>1.603299</td>\n",
       "      <td>4.325179</td>\n",
       "      <td>4.900495</td>\n",
       "      <td>4.916438</td>\n",
       "    </tr>\n",
       "    <tr>\n",
       "      <th>std</th>\n",
       "      <td>1.000137e+00</td>\n",
       "      <td>1.000137e+00</td>\n",
       "      <td>4.751879</td>\n",
       "      <td>1.218393</td>\n",
       "      <td>0.483179</td>\n",
       "      <td>0.984386</td>\n",
       "      <td>0.574879</td>\n",
       "      <td>0.895195</td>\n",
       "    </tr>\n",
       "    <tr>\n",
       "      <th>min</th>\n",
       "      <td>-3.086715e+00</td>\n",
       "      <td>-1.050649e+01</td>\n",
       "      <td>1987.000000</td>\n",
       "      <td>1.000000</td>\n",
       "      <td>0.800000</td>\n",
       "      <td>2.000000</td>\n",
       "      <td>2.000000</td>\n",
       "      <td>1.000000</td>\n",
       "    </tr>\n",
       "    <tr>\n",
       "      <th>25%</th>\n",
       "      <td>-7.203204e-01</td>\n",
       "      <td>-4.225426e-01</td>\n",
       "      <td>2008.000000</td>\n",
       "      <td>2.000000</td>\n",
       "      <td>1.300000</td>\n",
       "      <td>3.000000</td>\n",
       "      <td>5.000000</td>\n",
       "      <td>4.000000</td>\n",
       "    </tr>\n",
       "    <tr>\n",
       "      <th>50%</th>\n",
       "      <td>-1.063847e-01</td>\n",
       "      <td>1.945887e-01</td>\n",
       "      <td>2012.000000</td>\n",
       "      <td>3.000000</td>\n",
       "      <td>1.600000</td>\n",
       "      <td>5.000000</td>\n",
       "      <td>5.000000</td>\n",
       "      <td>5.000000</td>\n",
       "    </tr>\n",
       "    <tr>\n",
       "      <th>75%</th>\n",
       "      <td>7.906886e-01</td>\n",
       "      <td>6.542743e-01</td>\n",
       "      <td>2016.000000</td>\n",
       "      <td>3.000000</td>\n",
       "      <td>1.800000</td>\n",
       "      <td>5.000000</td>\n",
       "      <td>5.000000</td>\n",
       "      <td>6.000000</td>\n",
       "    </tr>\n",
       "    <tr>\n",
       "      <th>max</th>\n",
       "      <td>2.662195e+00</td>\n",
       "      <td>2.434732e+00</td>\n",
       "      <td>2023.000000</td>\n",
       "      <td>9.000000</td>\n",
       "      <td>6.300000</td>\n",
       "      <td>5.000000</td>\n",
       "      <td>7.000000</td>\n",
       "      <td>6.000000</td>\n",
       "    </tr>\n",
       "  </tbody>\n",
       "</table>\n",
       "</div>"
      ],
      "text/plain": [
       "              price       mileage       reg_yr  prev_owners       engine  \\\n",
       "count  3.638000e+03  3.638000e+03  3638.000000  3638.000000  3638.000000   \n",
       "mean  -1.234368e-15 -1.218743e-15  2011.958494     2.878230     1.603299   \n",
       "std    1.000137e+00  1.000137e+00     4.751879     1.218393     0.483179   \n",
       "min   -3.086715e+00 -1.050649e+01  1987.000000     1.000000     0.800000   \n",
       "25%   -7.203204e-01 -4.225426e-01  2008.000000     2.000000     1.300000   \n",
       "50%   -1.063847e-01  1.945887e-01  2012.000000     3.000000     1.600000   \n",
       "75%    7.906886e-01  6.542743e-01  2016.000000     3.000000     1.800000   \n",
       "max    2.662195e+00  2.434732e+00  2023.000000     9.000000     6.300000   \n",
       "\n",
       "             doors        seats  emission_class  \n",
       "count  3638.000000  3638.000000     3638.000000  \n",
       "mean      4.325179     4.900495        4.916438  \n",
       "std       0.984386     0.574879        0.895195  \n",
       "min       2.000000     2.000000        1.000000  \n",
       "25%       3.000000     5.000000        4.000000  \n",
       "50%       5.000000     5.000000        5.000000  \n",
       "75%       5.000000     5.000000        6.000000  \n",
       "max       5.000000     7.000000        6.000000  "
      ]
     },
     "execution_count": 69,
     "metadata": {},
     "output_type": "execute_result"
    }
   ],
   "source": [
    "# Pull the summary of all_data_scaled\n",
    "\n",
    "all_data_scaled.describe()"
   ]
  },
  {
   "cell_type": "markdown",
   "id": "e0133032",
   "metadata": {},
   "source": [
    "### Scaling: categorical "
   ]
  },
  {
   "cell_type": "code",
   "execution_count": 70,
   "id": "e7361fe0",
   "metadata": {},
   "outputs": [
    {
     "data": {
      "text/plain": [
       "fuel_type           6\n",
       "body_type           9\n",
       "gearbox             2\n",
       "service_history     2\n",
       "manufacturer       46\n",
       "country            12\n",
       "dtype: int64"
      ]
     },
     "execution_count": 70,
     "metadata": {},
     "output_type": "execute_result"
    }
   ],
   "source": [
    "# How many unique values do we have per column? \n",
    "\n",
    "all_data_scaled[['fuel_type','body_type','gearbox','service_history', 'manufacturer', 'country']].nunique()"
   ]
  },
  {
   "cell_type": "markdown",
   "id": "3e951230",
   "metadata": {},
   "source": [
    "#### manufacturer"
   ]
  },
  {
   "cell_type": "code",
   "execution_count": 71,
   "id": "9eb1ac4c",
   "metadata": {},
   "outputs": [
    {
     "data": {
      "text/plain": [
       "SAAB         6\n",
       "DS           6\n",
       "MG           6\n",
       "CHRYSLER     5\n",
       "SMART        4\n",
       "MASERATI     3\n",
       "ROVER        3\n",
       "PORSCHE      3\n",
       "ABARTH       3\n",
       "PROTON       2\n",
       "SSANGYONG    2\n",
       "DAIHATSU     2\n",
       "DODGE        1\n",
       "DAEWOO       1\n",
       "ISUZU        1\n",
       "Name: manufacturer, dtype: int64"
      ]
     },
     "execution_count": 71,
     "metadata": {},
     "output_type": "execute_result"
    }
   ],
   "source": [
    "# Which manufacturers have the least tallies?\n",
    "\n",
    "all_data_scaled['manufacturer'].value_counts().tail(15)"
   ]
  },
  {
   "cell_type": "code",
   "execution_count": 72,
   "id": "a9724e9d",
   "metadata": {},
   "outputs": [],
   "source": [
    "# Let's replace all manufacturers with count < 3 to 'OTHER'\n",
    "\n",
    "all_data_scaled['manufacturer'] = all_data_scaled['manufacturer'].replace({'DAIHATSU':'OTHER', \n",
    "                                                             'PROTON':'OTHER', \n",
    "                                                             'SSANGYONG':'OTHER', \n",
    "                                                             'DAEWOO':'OTHER', \n",
    "                                                             'DODGE':'OTHER', \n",
    "                                                             'ISUZU': 'OTHER'})"
   ]
  },
  {
   "cell_type": "code",
   "execution_count": 73,
   "id": "121b1eb0",
   "metadata": {},
   "outputs": [
    {
     "data": {
      "text/plain": [
       "41"
      ]
     },
     "execution_count": 73,
     "metadata": {},
     "output_type": "execute_result"
    }
   ],
   "source": [
    "# Examine the result\n",
    "\n",
    "all_data_scaled['manufacturer'].nunique()"
   ]
  },
  {
   "cell_type": "markdown",
   "id": "59bb6cc1",
   "metadata": {},
   "source": [
    "#### title"
   ]
  },
  {
   "cell_type": "code",
   "execution_count": 74,
   "id": "379cdfae",
   "metadata": {},
   "outputs": [],
   "source": [
    "# Eliminate the 'title' column as well\n",
    "\n",
    "all_data_scaled.drop('title', axis=1, inplace=True)"
   ]
  },
  {
   "cell_type": "markdown",
   "id": "c6959bda",
   "metadata": {},
   "source": [
    "#### the rest"
   ]
  },
  {
   "cell_type": "code",
   "execution_count": 75,
   "id": "1f7e0dc8",
   "metadata": {},
   "outputs": [],
   "source": [
    "# Import label encoder for the categorical data\n",
    "\n",
    "from sklearn.preprocessing import LabelEncoder"
   ]
  },
  {
   "cell_type": "code",
   "execution_count": 76,
   "id": "b82b4003",
   "metadata": {},
   "outputs": [],
   "source": [
    "# Define the label encoder\n",
    "\n",
    "le = LabelEncoder()"
   ]
  },
  {
   "cell_type": "code",
   "execution_count": 77,
   "id": "ca3c0adb",
   "metadata": {},
   "outputs": [],
   "source": [
    "# Select the columns to encode\n",
    "\n",
    "columns_to_encode = ['fuel_type', 'body_type', 'gearbox', 'service_history', 'manufacturer', 'country']"
   ]
  },
  {
   "cell_type": "code",
   "execution_count": 78,
   "id": "fb27be42",
   "metadata": {},
   "outputs": [],
   "source": [
    "# Loop through the columns and apply LabelEncoder\n",
    "\n",
    "for column in columns_to_encode:\n",
    "    all_data_scaled[column] = le.fit_transform(all_data_scaled[column])"
   ]
  },
  {
   "cell_type": "code",
   "execution_count": 79,
   "id": "72a06fbb",
   "metadata": {},
   "outputs": [
    {
     "data": {
      "text/html": [
       "<div>\n",
       "<style scoped>\n",
       "    .dataframe tbody tr th:only-of-type {\n",
       "        vertical-align: middle;\n",
       "    }\n",
       "\n",
       "    .dataframe tbody tr th {\n",
       "        vertical-align: top;\n",
       "    }\n",
       "\n",
       "    .dataframe thead th {\n",
       "        text-align: right;\n",
       "    }\n",
       "</style>\n",
       "<table border=\"1\" class=\"dataframe\">\n",
       "  <thead>\n",
       "    <tr style=\"text-align: right;\">\n",
       "      <th></th>\n",
       "      <th>price</th>\n",
       "      <th>mileage</th>\n",
       "      <th>reg_yr</th>\n",
       "      <th>prev_owners</th>\n",
       "      <th>fuel_type</th>\n",
       "      <th>body_type</th>\n",
       "      <th>engine</th>\n",
       "      <th>gearbox</th>\n",
       "      <th>doors</th>\n",
       "      <th>seats</th>\n",
       "      <th>emission_class</th>\n",
       "      <th>service_history</th>\n",
       "      <th>manufacturer</th>\n",
       "      <th>country</th>\n",
       "    </tr>\n",
       "  </thead>\n",
       "  <tbody>\n",
       "    <tr>\n",
       "      <th>0</th>\n",
       "      <td>0.599878</td>\n",
       "      <td>-0.043410</td>\n",
       "      <td>2016</td>\n",
       "      <td>3.0</td>\n",
       "      <td>0</td>\n",
       "      <td>4</td>\n",
       "      <td>1.4</td>\n",
       "      <td>1</td>\n",
       "      <td>5.0</td>\n",
       "      <td>5.0</td>\n",
       "      <td>6.0</td>\n",
       "      <td>1</td>\n",
       "      <td>33</td>\n",
       "      <td>0</td>\n",
       "    </tr>\n",
       "    <tr>\n",
       "      <th>1</th>\n",
       "      <td>-1.380936</td>\n",
       "      <td>0.380018</td>\n",
       "      <td>2008</td>\n",
       "      <td>4.0</td>\n",
       "      <td>3</td>\n",
       "      <td>4</td>\n",
       "      <td>1.2</td>\n",
       "      <td>1</td>\n",
       "      <td>3.0</td>\n",
       "      <td>5.0</td>\n",
       "      <td>4.0</td>\n",
       "      <td>0</td>\n",
       "      <td>38</td>\n",
       "      <td>10</td>\n",
       "    </tr>\n",
       "    <tr>\n",
       "      <th>2</th>\n",
       "      <td>-1.969255</td>\n",
       "      <td>1.173171</td>\n",
       "      <td>2011</td>\n",
       "      <td>3.0</td>\n",
       "      <td>3</td>\n",
       "      <td>4</td>\n",
       "      <td>1.4</td>\n",
       "      <td>1</td>\n",
       "      <td>5.0</td>\n",
       "      <td>5.0</td>\n",
       "      <td>5.0</td>\n",
       "      <td>1</td>\n",
       "      <td>12</td>\n",
       "      <td>7</td>\n",
       "    </tr>\n",
       "    <tr>\n",
       "      <th>3</th>\n",
       "      <td>-0.770698</td>\n",
       "      <td>0.540045</td>\n",
       "      <td>2010</td>\n",
       "      <td>5.0</td>\n",
       "      <td>3</td>\n",
       "      <td>4</td>\n",
       "      <td>1.4</td>\n",
       "      <td>1</td>\n",
       "      <td>3.0</td>\n",
       "      <td>4.0</td>\n",
       "      <td>4.0</td>\n",
       "      <td>0</td>\n",
       "      <td>23</td>\n",
       "      <td>10</td>\n",
       "    </tr>\n",
       "    <tr>\n",
       "      <th>4</th>\n",
       "      <td>-1.901504</td>\n",
       "      <td>0.304870</td>\n",
       "      <td>2013</td>\n",
       "      <td>3.0</td>\n",
       "      <td>0</td>\n",
       "      <td>4</td>\n",
       "      <td>1.3</td>\n",
       "      <td>1</td>\n",
       "      <td>5.0</td>\n",
       "      <td>5.0</td>\n",
       "      <td>5.0</td>\n",
       "      <td>1</td>\n",
       "      <td>38</td>\n",
       "      <td>10</td>\n",
       "    </tr>\n",
       "  </tbody>\n",
       "</table>\n",
       "</div>"
      ],
      "text/plain": [
       "      price   mileage  reg_yr  prev_owners  fuel_type  body_type  engine  \\\n",
       "0  0.599878 -0.043410    2016          3.0          0          4     1.4   \n",
       "1 -1.380936  0.380018    2008          4.0          3          4     1.2   \n",
       "2 -1.969255  1.173171    2011          3.0          3          4     1.4   \n",
       "3 -0.770698  0.540045    2010          5.0          3          4     1.4   \n",
       "4 -1.901504  0.304870    2013          3.0          0          4     1.3   \n",
       "\n",
       "   gearbox  doors  seats  emission_class  service_history  manufacturer  \\\n",
       "0        1    5.0    5.0             6.0                1            33   \n",
       "1        1    3.0    5.0             4.0                0            38   \n",
       "2        1    5.0    5.0             5.0                1            12   \n",
       "3        1    3.0    4.0             4.0                0            23   \n",
       "4        1    5.0    5.0             5.0                1            38   \n",
       "\n",
       "   country  \n",
       "0        0  \n",
       "1       10  \n",
       "2        7  \n",
       "3       10  \n",
       "4       10  "
      ]
     },
     "execution_count": 79,
     "metadata": {},
     "output_type": "execute_result"
    }
   ],
   "source": [
    "# Assess the outcome\n",
    "\n",
    "all_data_scaled.head()"
   ]
  },
  {
   "cell_type": "markdown",
   "id": "f4415df1",
   "metadata": {},
   "source": [
    "## 5. 기존 데이터의 정보 70% 이상을 가지는 수준에서 최소한의 주성분 추출 (PCA)"
   ]
  },
  {
   "cell_type": "code",
   "execution_count": 81,
   "id": "5cd7e421",
   "metadata": {},
   "outputs": [
    {
     "name": "stdout",
     "output_type": "stream",
     "text": [
      "<class 'pandas.core.frame.DataFrame'>\n",
      "Int64Index: 3638 entries, 0 to 3641\n",
      "Data columns (total 14 columns):\n",
      " #   Column           Non-Null Count  Dtype  \n",
      "---  ------           --------------  -----  \n",
      " 0   price            3638 non-null   float64\n",
      " 1   mileage          3638 non-null   float64\n",
      " 2   reg_yr           3638 non-null   int64  \n",
      " 3   prev_owners      3638 non-null   float64\n",
      " 4   fuel_type        3638 non-null   int64  \n",
      " 5   body_type        3638 non-null   int64  \n",
      " 6   engine           3638 non-null   float64\n",
      " 7   gearbox          3638 non-null   int64  \n",
      " 8   doors            3638 non-null   float64\n",
      " 9   seats            3638 non-null   float64\n",
      " 10  emission_class   3638 non-null   float64\n",
      " 11  service_history  3638 non-null   int64  \n",
      " 12  manufacturer     3638 non-null   int64  \n",
      " 13  country          3638 non-null   int64  \n",
      "dtypes: float64(7), int64(7)\n",
      "memory usage: 426.3 KB\n"
     ]
    }
   ],
   "source": [
    "# Ensure all columns are in float/int data type\n",
    "\n",
    "all_data_scaled.info()"
   ]
  },
  {
   "cell_type": "code",
   "execution_count": 82,
   "id": "d103f08a",
   "metadata": {},
   "outputs": [],
   "source": [
    "# Exclude the dependent variable 'price'\n",
    "\n",
    "all_data_excluded = all_data_scaled.drop(columns=['price'])"
   ]
  },
  {
   "cell_type": "code",
   "execution_count": 83,
   "id": "3e3ac1a4",
   "metadata": {},
   "outputs": [],
   "source": [
    "# Import the PCA package\n",
    "\n",
    "from sklearn.decomposition import PCA"
   ]
  },
  {
   "cell_type": "code",
   "execution_count": 84,
   "id": "a1d7abe5",
   "metadata": {},
   "outputs": [],
   "source": [
    "# Define PCA\n",
    "\n",
    "pca = PCA()"
   ]
  },
  {
   "cell_type": "code",
   "execution_count": 85,
   "id": "a78dd024",
   "metadata": {},
   "outputs": [],
   "source": [
    "# Run PCA on all_data\n",
    "\n",
    "pca_all_data = pca.fit(all_data_excluded)"
   ]
  },
  {
   "cell_type": "code",
   "execution_count": 86,
   "id": "f0d25290",
   "metadata": {},
   "outputs": [],
   "source": [
    "# Calculate the Explained Variance Ratio\n",
    "\n",
    "explained_variance_ratio = pca_all_data.explained_variance_ratio_\n",
    "cumulative_explained_variance = np.cumsum(explained_variance_ratio)"
   ]
  },
  {
   "cell_type": "code",
   "execution_count": 87,
   "id": "2002ecbc",
   "metadata": {},
   "outputs": [
    {
     "data": {
      "image/png": "[encoded data removed]",
      "text/plain": [
       "<Figure size 1080x576 with 1 Axes>"
      ]
     },
     "metadata": {
      "needs_background": "light"
     },
     "output_type": "display_data"
    }
   ],
   "source": [
    "# Visualise the above\n",
    "\n",
    "# Import plt\n",
    "import matplotlib.pyplot as plt\n",
    "\n",
    "# Create a new figure using plt.figure()\n",
    "plt.figure(figsize=(15, 8))\n",
    "\n",
    "# Bar plot for explained variance ratio\n",
    "barplot = sns.barplot(x=list(range(1, len(cumulative_explained_variance) + 1)), y=explained_variance_ratio, alpha=0.8)\n",
    "\n",
    "# Line plot for cumulative explained variance\n",
    "lineplot, = plt.plot(range(0, len(cumulative_explained_variance)), cumulative_explained_variance, marker='o', linestyle='--', linewidth=2)\n",
    "\n",
    "# Set labels and title\n",
    "plt.xlabel('Number of Components', fontsize=14)\n",
    "plt.ylabel('Explained Variance', fontsize=14)\n",
    "plt.title('Cumulative Variance vs. Number of Components', fontsize=18)\n",
    "\n",
    "# Customize ticks and legend\n",
    "plt.xticks(range(0, len(cumulative_explained_variance)))\n",
    "plt.legend(handles=[barplot.patches[0], lineplot],\n",
    "           labels=['Explained Variance', 'Cumulative Explained Variance'])  \n",
    "\n",
    "# Display variance values for each component\n",
    "x_offset = -0.3\n",
    "y_offset = 0.01\n",
    "for i, (ev_ratio, cum_ev_ratio) in enumerate(zip(explained_variance_ratio, cumulative_explained_variance)):\n",
    "    plt.text(i, ev_ratio, f\"{ev_ratio:.2f}\", ha=\"center\", va=\"bottom\", fontsize=10)\n",
    "    if i > 0:\n",
    "        plt.text(i + x_offset, cum_ev_ratio + y_offset, f\"{cum_ev_ratio:.2f}\", ha=\"center\", va=\"bottom\", fontsize=10)\n",
    "\n",
    "plt.grid(axis='both')   \n",
    "plt.show()"
   ]
  },
  {
   "cell_type": "markdown",
   "id": "ae0ce9b3",
   "metadata": {},
   "source": [
    "The first principal component (PC1) explains 78% of the variance, and the second component 11%. \n",
    "Here, we hold on to principal components that explain at least 70% of the variance cumulatively. With the first principal component, the cumulative proportion of the variance explained already surpasses 70%. Therefore, we could consider to keep the **first principal component**. \n",
    "However, we can observe an elbow at the third principle component, cumulatively explaining 96% of the variance."
   ]
  },
  {
   "cell_type": "code",
   "execution_count": 88,
   "id": "68711a27",
   "metadata": {},
   "outputs": [],
   "source": [
    "# Choose number of components\n",
    "\n",
    "pca = PCA(1)"
   ]
  },
  {
   "cell_type": "code",
   "execution_count": 89,
   "id": "ee371fd9",
   "metadata": {},
   "outputs": [
    {
     "data": {
      "text/html": [
       "<div>\n",
       "<style scoped>\n",
       "    .dataframe tbody tr th:only-of-type {\n",
       "        vertical-align: middle;\n",
       "    }\n",
       "\n",
       "    .dataframe tbody tr th {\n",
       "        vertical-align: top;\n",
       "    }\n",
       "\n",
       "    .dataframe thead th {\n",
       "        text-align: right;\n",
       "    }\n",
       "</style>\n",
       "<table border=\"1\" class=\"dataframe\">\n",
       "  <thead>\n",
       "    <tr style=\"text-align: right;\">\n",
       "      <th></th>\n",
       "      <th>PC1</th>\n",
       "    </tr>\n",
       "  </thead>\n",
       "  <tbody>\n",
       "    <tr>\n",
       "      <th>0</th>\n",
       "      <td>-10.338950</td>\n",
       "    </tr>\n",
       "    <tr>\n",
       "      <th>1</th>\n",
       "      <td>-15.557900</td>\n",
       "    </tr>\n",
       "    <tr>\n",
       "      <th>2</th>\n",
       "      <td>10.469660</td>\n",
       "    </tr>\n",
       "    <tr>\n",
       "      <th>3</th>\n",
       "      <td>-0.579307</td>\n",
       "    </tr>\n",
       "    <tr>\n",
       "      <th>4</th>\n",
       "      <td>-15.589236</td>\n",
       "    </tr>\n",
       "    <tr>\n",
       "      <th>...</th>\n",
       "      <td>...</td>\n",
       "    </tr>\n",
       "    <tr>\n",
       "      <th>3633</th>\n",
       "      <td>-6.300752</td>\n",
       "    </tr>\n",
       "    <tr>\n",
       "      <th>3634</th>\n",
       "      <td>20.658461</td>\n",
       "    </tr>\n",
       "    <tr>\n",
       "      <th>3635</th>\n",
       "      <td>19.688572</td>\n",
       "    </tr>\n",
       "    <tr>\n",
       "      <th>3636</th>\n",
       "      <td>11.630604</td>\n",
       "    </tr>\n",
       "    <tr>\n",
       "      <th>3637</th>\n",
       "      <td>-15.616804</td>\n",
       "    </tr>\n",
       "  </tbody>\n",
       "</table>\n",
       "<p>3638 rows × 1 columns</p>\n",
       "</div>"
      ],
      "text/plain": [
       "            PC1\n",
       "0    -10.338950\n",
       "1    -15.557900\n",
       "2     10.469660\n",
       "3     -0.579307\n",
       "4    -15.589236\n",
       "...         ...\n",
       "3633  -6.300752\n",
       "3634  20.658461\n",
       "3635  19.688572\n",
       "3636  11.630604\n",
       "3637 -15.616804\n",
       "\n",
       "[3638 rows x 1 columns]"
      ]
     },
     "execution_count": 89,
     "metadata": {},
     "output_type": "execute_result"
    }
   ],
   "source": [
    "# The transformed DataFrame\n",
    "\n",
    "pd.DataFrame(pca.fit_transform(all_data_excluded), columns = ['PC1'])"
   ]
  },
  {
   "cell_type": "code",
   "execution_count": 90,
   "id": "c1408a0b",
   "metadata": {},
   "outputs": [
    {
     "data": {
      "text/plain": [
       "array([0.78206128])"
      ]
     },
     "execution_count": 90,
     "metadata": {},
     "output_type": "execute_result"
    }
   ],
   "source": [
    "# Find the explained_variance_ratio_\n",
    "\n",
    "pca.explained_variance_ratio_"
   ]
  },
  {
   "cell_type": "markdown",
   "id": "66bfa5ef",
   "metadata": {},
   "source": [
    "## Questions. \n",
    "\n",
    "### 1. 국가별 총 브랜드 개수는?"
   ]
  },
  {
   "cell_type": "code",
   "execution_count": 91,
   "id": "2c045cef",
   "metadata": {},
   "outputs": [
    {
     "data": {
      "text/plain": [
       "country\n",
       "Czech Republic     1\n",
       "France             4\n",
       "Germany            6\n",
       "Italy              4\n",
       "Japan             11\n",
       "Malaysia           1\n",
       "Romania            1\n",
       "South Korea        4\n",
       "Spain              1\n",
       "Sweden             2\n",
       "United Kingdom     6\n",
       "United States      5\n",
       "Name: manufacturer, dtype: int64"
      ]
     },
     "execution_count": 91,
     "metadata": {},
     "output_type": "execute_result"
    }
   ],
   "source": [
    "all_data.groupby('country')['manufacturer'].nunique()"
   ]
  },
  {
   "cell_type": "markdown",
   "id": "b7e3628b",
   "metadata": {},
   "source": [
    "### 2. 상관관계가 높은 변수들이 있는지 확인해보세요."
   ]
  },
  {
   "cell_type": "code",
   "execution_count": 94,
   "id": "da88314f",
   "metadata": {},
   "outputs": [
    {
     "data": {
      "text/html": [
       "<div>\n",
       "<style scoped>\n",
       "    .dataframe tbody tr th:only-of-type {\n",
       "        vertical-align: middle;\n",
       "    }\n",
       "\n",
       "    .dataframe tbody tr th {\n",
       "        vertical-align: top;\n",
       "    }\n",
       "\n",
       "    .dataframe thead th {\n",
       "        text-align: right;\n",
       "    }\n",
       "</style>\n",
       "<table border=\"1\" class=\"dataframe\">\n",
       "  <thead>\n",
       "    <tr style=\"text-align: right;\">\n",
       "      <th></th>\n",
       "      <th>price</th>\n",
       "      <th>mileage</th>\n",
       "      <th>reg_yr</th>\n",
       "      <th>prev_owners</th>\n",
       "      <th>fuel_type</th>\n",
       "      <th>body_type</th>\n",
       "      <th>engine</th>\n",
       "      <th>gearbox</th>\n",
       "      <th>doors</th>\n",
       "      <th>seats</th>\n",
       "      <th>emission_class</th>\n",
       "      <th>service_history</th>\n",
       "      <th>manufacturer</th>\n",
       "      <th>country</th>\n",
       "    </tr>\n",
       "  </thead>\n",
       "  <tbody>\n",
       "    <tr>\n",
       "      <th>price</th>\n",
       "      <td>1.000000</td>\n",
       "      <td>-0.572344</td>\n",
       "      <td>0.806897</td>\n",
       "      <td>-0.411079</td>\n",
       "      <td>-0.060160</td>\n",
       "      <td>0.160545</td>\n",
       "      <td>-0.025373</td>\n",
       "      <td>-0.175283</td>\n",
       "      <td>0.110838</td>\n",
       "      <td>-0.039877</td>\n",
       "      <td>0.758504</td>\n",
       "      <td>-0.164105</td>\n",
       "      <td>-0.081881</td>\n",
       "      <td>-0.112236</td>\n",
       "    </tr>\n",
       "    <tr>\n",
       "      <th>mileage</th>\n",
       "      <td>-0.572344</td>\n",
       "      <td>1.000000</td>\n",
       "      <td>-0.514153</td>\n",
       "      <td>0.304088</td>\n",
       "      <td>-0.247798</td>\n",
       "      <td>0.011553</td>\n",
       "      <td>0.345920</td>\n",
       "      <td>-0.091686</td>\n",
       "      <td>-0.072403</td>\n",
       "      <td>0.099568</td>\n",
       "      <td>-0.419125</td>\n",
       "      <td>0.099974</td>\n",
       "      <td>-0.124239</td>\n",
       "      <td>-0.017307</td>\n",
       "    </tr>\n",
       "    <tr>\n",
       "      <th>reg_yr</th>\n",
       "      <td>0.806897</td>\n",
       "      <td>-0.514153</td>\n",
       "      <td>1.000000</td>\n",
       "      <td>-0.413801</td>\n",
       "      <td>-0.061916</td>\n",
       "      <td>0.061133</td>\n",
       "      <td>-0.296531</td>\n",
       "      <td>0.082169</td>\n",
       "      <td>0.214610</td>\n",
       "      <td>0.026770</td>\n",
       "      <td>0.909193</td>\n",
       "      <td>-0.133723</td>\n",
       "      <td>0.023104</td>\n",
       "      <td>-0.006360</td>\n",
       "    </tr>\n",
       "    <tr>\n",
       "      <th>prev_owners</th>\n",
       "      <td>-0.411079</td>\n",
       "      <td>0.304088</td>\n",
       "      <td>-0.413801</td>\n",
       "      <td>1.000000</td>\n",
       "      <td>-0.029972</td>\n",
       "      <td>-0.060482</td>\n",
       "      <td>0.144767</td>\n",
       "      <td>-0.013364</td>\n",
       "      <td>-0.121259</td>\n",
       "      <td>-0.026725</td>\n",
       "      <td>-0.376624</td>\n",
       "      <td>0.199086</td>\n",
       "      <td>-0.026071</td>\n",
       "      <td>0.012741</td>\n",
       "    </tr>\n",
       "    <tr>\n",
       "      <th>fuel_type</th>\n",
       "      <td>-0.060160</td>\n",
       "      <td>-0.247798</td>\n",
       "      <td>-0.061916</td>\n",
       "      <td>-0.029972</td>\n",
       "      <td>1.000000</td>\n",
       "      <td>-0.174248</td>\n",
       "      <td>-0.363673</td>\n",
       "      <td>0.077772</td>\n",
       "      <td>-0.160139</td>\n",
       "      <td>-0.205543</td>\n",
       "      <td>-0.106299</td>\n",
       "      <td>-0.005267</td>\n",
       "      <td>0.107117</td>\n",
       "      <td>0.137361</td>\n",
       "    </tr>\n",
       "    <tr>\n",
       "      <th>body_type</th>\n",
       "      <td>0.160545</td>\n",
       "      <td>0.011553</td>\n",
       "      <td>0.061133</td>\n",
       "      <td>-0.060482</td>\n",
       "      <td>-0.174248</td>\n",
       "      <td>1.000000</td>\n",
       "      <td>0.279442</td>\n",
       "      <td>-0.164272</td>\n",
       "      <td>0.286690</td>\n",
       "      <td>0.359717</td>\n",
       "      <td>0.033547</td>\n",
       "      <td>-0.024362</td>\n",
       "      <td>-0.098715</td>\n",
       "      <td>-0.073522</td>\n",
       "    </tr>\n",
       "    <tr>\n",
       "      <th>engine</th>\n",
       "      <td>-0.025373</td>\n",
       "      <td>0.345920</td>\n",
       "      <td>-0.296531</td>\n",
       "      <td>0.144767</td>\n",
       "      <td>-0.363673</td>\n",
       "      <td>0.279442</td>\n",
       "      <td>1.000000</td>\n",
       "      <td>-0.469019</td>\n",
       "      <td>-0.061219</td>\n",
       "      <td>0.074035</td>\n",
       "      <td>-0.261767</td>\n",
       "      <td>-0.011770</td>\n",
       "      <td>-0.245818</td>\n",
       "      <td>-0.078182</td>\n",
       "    </tr>\n",
       "    <tr>\n",
       "      <th>gearbox</th>\n",
       "      <td>-0.175283</td>\n",
       "      <td>-0.091686</td>\n",
       "      <td>0.082169</td>\n",
       "      <td>-0.013364</td>\n",
       "      <td>0.077772</td>\n",
       "      <td>-0.164272</td>\n",
       "      <td>-0.469019</td>\n",
       "      <td>1.000000</td>\n",
       "      <td>0.062625</td>\n",
       "      <td>-0.005572</td>\n",
       "      <td>0.086187</td>\n",
       "      <td>0.008103</td>\n",
       "      <td>0.177906</td>\n",
       "      <td>0.168082</td>\n",
       "    </tr>\n",
       "    <tr>\n",
       "      <th>doors</th>\n",
       "      <td>0.110838</td>\n",
       "      <td>-0.072403</td>\n",
       "      <td>0.214610</td>\n",
       "      <td>-0.121259</td>\n",
       "      <td>-0.160139</td>\n",
       "      <td>0.286690</td>\n",
       "      <td>-0.061219</td>\n",
       "      <td>0.062625</td>\n",
       "      <td>1.000000</td>\n",
       "      <td>0.496900</td>\n",
       "      <td>0.176554</td>\n",
       "      <td>-0.042315</td>\n",
       "      <td>0.101550</td>\n",
       "      <td>0.046218</td>\n",
       "    </tr>\n",
       "    <tr>\n",
       "      <th>seats</th>\n",
       "      <td>-0.039877</td>\n",
       "      <td>0.099568</td>\n",
       "      <td>0.026770</td>\n",
       "      <td>-0.026725</td>\n",
       "      <td>-0.205543</td>\n",
       "      <td>0.359717</td>\n",
       "      <td>0.074035</td>\n",
       "      <td>-0.005572</td>\n",
       "      <td>0.496900</td>\n",
       "      <td>1.000000</td>\n",
       "      <td>0.022306</td>\n",
       "      <td>-0.028785</td>\n",
       "      <td>0.090207</td>\n",
       "      <td>0.056058</td>\n",
       "    </tr>\n",
       "    <tr>\n",
       "      <th>emission_class</th>\n",
       "      <td>0.758504</td>\n",
       "      <td>-0.419125</td>\n",
       "      <td>0.909193</td>\n",
       "      <td>-0.376624</td>\n",
       "      <td>-0.106299</td>\n",
       "      <td>0.033547</td>\n",
       "      <td>-0.261767</td>\n",
       "      <td>0.086187</td>\n",
       "      <td>0.176554</td>\n",
       "      <td>0.022306</td>\n",
       "      <td>1.000000</td>\n",
       "      <td>-0.107256</td>\n",
       "      <td>0.004846</td>\n",
       "      <td>-0.032793</td>\n",
       "    </tr>\n",
       "    <tr>\n",
       "      <th>service_history</th>\n",
       "      <td>-0.164105</td>\n",
       "      <td>0.099974</td>\n",
       "      <td>-0.133723</td>\n",
       "      <td>0.199086</td>\n",
       "      <td>-0.005267</td>\n",
       "      <td>-0.024362</td>\n",
       "      <td>-0.011770</td>\n",
       "      <td>0.008103</td>\n",
       "      <td>-0.042315</td>\n",
       "      <td>-0.028785</td>\n",
       "      <td>-0.107256</td>\n",
       "      <td>1.000000</td>\n",
       "      <td>-0.013777</td>\n",
       "      <td>0.009898</td>\n",
       "    </tr>\n",
       "    <tr>\n",
       "      <th>manufacturer</th>\n",
       "      <td>-0.081881</td>\n",
       "      <td>-0.124239</td>\n",
       "      <td>0.023104</td>\n",
       "      <td>-0.026071</td>\n",
       "      <td>0.107117</td>\n",
       "      <td>-0.098715</td>\n",
       "      <td>-0.245818</td>\n",
       "      <td>0.177906</td>\n",
       "      <td>0.101550</td>\n",
       "      <td>0.090207</td>\n",
       "      <td>0.004846</td>\n",
       "      <td>-0.013777</td>\n",
       "      <td>1.000000</td>\n",
       "      <td>0.088217</td>\n",
       "    </tr>\n",
       "    <tr>\n",
       "      <th>country</th>\n",
       "      <td>-0.112236</td>\n",
       "      <td>-0.017307</td>\n",
       "      <td>-0.006360</td>\n",
       "      <td>0.012741</td>\n",
       "      <td>0.137361</td>\n",
       "      <td>-0.073522</td>\n",
       "      <td>-0.078182</td>\n",
       "      <td>0.168082</td>\n",
       "      <td>0.046218</td>\n",
       "      <td>0.056058</td>\n",
       "      <td>-0.032793</td>\n",
       "      <td>0.009898</td>\n",
       "      <td>0.088217</td>\n",
       "      <td>1.000000</td>\n",
       "    </tr>\n",
       "  </tbody>\n",
       "</table>\n",
       "</div>"
      ],
      "text/plain": [
       "                    price   mileage    reg_yr  prev_owners  fuel_type  \\\n",
       "price            1.000000 -0.572344  0.806897    -0.411079  -0.060160   \n",
       "mileage         -0.572344  1.000000 -0.514153     0.304088  -0.247798   \n",
       "reg_yr           0.806897 -0.514153  1.000000    -0.413801  -0.061916   \n",
       "prev_owners     -0.411079  0.304088 -0.413801     1.000000  -0.029972   \n",
       "fuel_type       -0.060160 -0.247798 -0.061916    -0.029972   1.000000   \n",
       "body_type        0.160545  0.011553  0.061133    -0.060482  -0.174248   \n",
       "engine          -0.025373  0.345920 -0.296531     0.144767  -0.363673   \n",
       "gearbox         -0.175283 -0.091686  0.082169    -0.013364   0.077772   \n",
       "doors            0.110838 -0.072403  0.214610    -0.121259  -0.160139   \n",
       "seats           -0.039877  0.099568  0.026770    -0.026725  -0.205543   \n",
       "emission_class   0.758504 -0.419125  0.909193    -0.376624  -0.106299   \n",
       "service_history -0.164105  0.099974 -0.133723     0.199086  -0.005267   \n",
       "manufacturer    -0.081881 -0.124239  0.023104    -0.026071   0.107117   \n",
       "country         -0.112236 -0.017307 -0.006360     0.012741   0.137361   \n",
       "\n",
       "                 body_type    engine   gearbox     doors     seats  \\\n",
       "price             0.160545 -0.025373 -0.175283  0.110838 -0.039877   \n",
       "mileage           0.011553  0.345920 -0.091686 -0.072403  0.099568   \n",
       "reg_yr            0.061133 -0.296531  0.082169  0.214610  0.026770   \n",
       "prev_owners      -0.060482  0.144767 -0.013364 -0.121259 -0.026725   \n",
       "fuel_type        -0.174248 -0.363673  0.077772 -0.160139 -0.205543   \n",
       "body_type         1.000000  0.279442 -0.164272  0.286690  0.359717   \n",
       "engine            0.279442  1.000000 -0.469019 -0.061219  0.074035   \n",
       "gearbox          -0.164272 -0.469019  1.000000  0.062625 -0.005572   \n",
       "doors             0.286690 -0.061219  0.062625  1.000000  0.496900   \n",
       "seats             0.359717  0.074035 -0.005572  0.496900  1.000000   \n",
       "emission_class    0.033547 -0.261767  0.086187  0.176554  0.022306   \n",
       "service_history  -0.024362 -0.011770  0.008103 -0.042315 -0.028785   \n",
       "manufacturer     -0.098715 -0.245818  0.177906  0.101550  0.090207   \n",
       "country          -0.073522 -0.078182  0.168082  0.046218  0.056058   \n",
       "\n",
       "                 emission_class  service_history  manufacturer   country  \n",
       "price                  0.758504        -0.164105     -0.081881 -0.112236  \n",
       "mileage               -0.419125         0.099974     -0.124239 -0.017307  \n",
       "reg_yr                 0.909193        -0.133723      0.023104 -0.006360  \n",
       "prev_owners           -0.376624         0.199086     -0.026071  0.012741  \n",
       "fuel_type             -0.106299        -0.005267      0.107117  0.137361  \n",
       "body_type              0.033547        -0.024362     -0.098715 -0.073522  \n",
       "engine                -0.261767        -0.011770     -0.245818 -0.078182  \n",
       "gearbox                0.086187         0.008103      0.177906  0.168082  \n",
       "doors                  0.176554        -0.042315      0.101550  0.046218  \n",
       "seats                  0.022306        -0.028785      0.090207  0.056058  \n",
       "emission_class         1.000000        -0.107256      0.004846 -0.032793  \n",
       "service_history       -0.107256         1.000000     -0.013777  0.009898  \n",
       "manufacturer           0.004846        -0.013777      1.000000  0.088217  \n",
       "country               -0.032793         0.009898      0.088217  1.000000  "
      ]
     },
     "execution_count": 94,
     "metadata": {},
     "output_type": "execute_result"
    }
   ],
   "source": [
    "# Can discover multicollinearity problem by monitoring correlations\n",
    "\n",
    "all_data_scaled.corr()"
   ]
  },
  {
   "cell_type": "markdown",
   "id": "a3884fa3",
   "metadata": {},
   "source": [
    "High correlation between 'reg_yr' and 'emission_class' observed (0.909193)"
   ]
  },
  {
   "cell_type": "markdown",
   "id": "c883035b",
   "metadata": {},
   "source": [
    "## Comments\n",
    "\n",
    "* 배운 내용을 논리의 흐름에 따라 적었는데, 그 과정에서 Scaling 관련 개념이 많이 약하다는 것을 알게 되었습니다. \n",
    "* 'reg_yr'와 'emission_class'의 상관관계가 높아 처음부터 둘 중 하나만 사용해서 결과를 돌려봤는데 PCA 결과에는 차이가 거의 없었습니다. \n",
    "* PC1에서 분산의 70% 이상이 설명되었지만, 엘보우 포인트는 PC3에서 관찰되었습니다. \n",
    "* 원핫인코딩을 사용하기엔 카테고리형 데이터의 유니크한 값이 많아, 라벨 인코딩을 사용했습니다. 원핫인코딩도 사용해봤는데 역시 PCA 결과에 차이가 없었습니다. \n",
    "* 상황에 따라 어떤 방법을 써서 데이터를 처리해야 하는지가 빠르게 판단된는 경지에 얼른 다다르고 싶습니다. "
   ]
  }
 ],
 "metadata": {
  "colab": {
   "provenance": []
  },
  "kernelspec": {
   "display_name": "Python 3 (ipykernel)",
   "language": "python",
   "name": "python3"
  },
  "language_info": {
   "codemirror_mode": {
    "name": "ipython",
    "version": 3
   },
   "file_extension": ".py",
   "mimetype": "text/x-python",
   "name": "python",
   "nbconvert_exporter": "python",
   "pygments_lexer": "ipython3",
   "version": "3.9.7"
  }
 },
 "nbformat": 4,
 "nbformat_minor": 5
}
